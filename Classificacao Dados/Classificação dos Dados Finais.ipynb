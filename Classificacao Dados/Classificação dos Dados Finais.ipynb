{
 "cells": [
  {
   "cell_type": "code",
   "execution_count": 14,
   "metadata": {},
   "outputs": [],
   "source": [
    "from textblob import TextBlob\n",
    "import pandas as pd  \n",
    "import numpy as np\n",
    "from decimal import Decimal"
   ]
  },
  {
   "cell_type": "code",
   "execution_count": 27,
   "metadata": {},
   "outputs": [],
   "source": [
    "dilma1turno=pd.read_csv(\"ClassificadoTotal/clasdilma1.txt\",delimiter=\"\\t\",encoding='latin-1')\n",
    "dilma1turnoTratado=pd.read_csv(\"Dados Finais/DadoFinal_Dilma1turno.txt\",delimiter=\"\\t\",encoding='latin-1')\n"
   ]
  },
  {
   "cell_type": "code",
   "execution_count": 16,
   "metadata": {},
   "outputs": [],
   "source": [
    "aecio1turno=pd.read_csv(\"Classificado/clasaecio1.txt\",delimiter=\"\\t\",encoding='latin-1')\n",
    "aecio2turno=pd.read_csv(\"Classificado/clasaecio2.txt\",delimiter=\"\\t\",encoding='latin-1')"
   ]
  },
  {
   "cell_type": "code",
   "execution_count": 17,
   "metadata": {},
   "outputs": [],
   "source": [
    "dilma1turno.to_csv('Dados Finais/dilma1turnoTudo.txt',sep='\\t', mode='a',index=False)\n"
   ]
  },
  {
   "cell_type": "code",
   "execution_count": 18,
   "metadata": {},
   "outputs": [],
   "source": [
    "def analyze_sentiment(score):\n",
    "    score = float(score)\n",
    "    if score > 0:\n",
    "        return 'positivo'\n",
    "    elif score == 0:\n",
    "        return 'neutro'\n",
    "    else: \n",
    "        return 'negativo'\n",
    "\n",
    "d1 = []\n",
    "for tweet in dilma1turno['score']:\n",
    "    d1.append(analyze_sentiment(tweet))\n",
    "\n",
    "dilma1turno['sentiment'] = d1"
   ]
  },
  {
   "cell_type": "code",
   "execution_count": 28,
   "metadata": {},
   "outputs": [
    {
     "name": "stdout",
     "output_type": "stream",
     "text": [
      "Percentage of positive tweets: 30.204105756728005%\n",
      "Percentage of neutral tweets: 44.35162929981481%\n",
      "Percentage de negative tweets: 25.44229481067024%\n"
     ]
    }
   ],
   "source": [
    "pos_tweets = [ tweet for index, tweet in enumerate(dilma1turnoTratado['sentiment']) if dilma1turnoTratado['sentiment'][index] == 'positivo']\n",
    "neu_tweets = [ tweet for index, tweet in enumerate(dilma1turnoTratado['sentiment']) if dilma1turnoTratado['sentiment'][index] == 'neutro']\n",
    "neg_tweets = [ tweet for index, tweet in enumerate(dilma1turnoTratado['sentiment']) if dilma1turnoTratado['sentiment'][index] == 'negativo']\n",
    "\n",
    "\n",
    "\n",
    "print(\"Percentage of positive tweets: {}%\".format(len(pos_tweets)*100/len(dilma1turnoTratado['sentiment'])))\n",
    "print(\"Percentage of neutral tweets: {}%\".format(len(neu_tweets)*100/len(dilma1turnoTratado['sentiment'])))\n",
    "print(\"Percentage de negative tweets: {}%\".format(len(neg_tweets)*100/len(dilma1turnoTratado['sentiment'])))"
   ]
  },
  {
   "cell_type": "code",
   "execution_count": 29,
   "metadata": {},
   "outputs": [],
   "source": [
    "lenG = pd.Series(dilma1turno['text'])"
   ]
  },
  {
   "cell_type": "code",
   "execution_count": 30,
   "metadata": {},
   "outputs": [],
   "source": [
    "dilma1turno['len'] = lenG.str.len()"
   ]
  },
  {
   "cell_type": "code",
   "execution_count": 31,
   "metadata": {},
   "outputs": [],
   "source": [
    "tlen = pd.Series(data=dilma1turno['len'].values, index=dilma1turno['date'])\n",
    "tfav = pd.Series(data=dilma1turno['favorites'].values, index=dilma1turno['date'])\n",
    "tret = pd.Series(data=dilma1turno['retweets'].values, index=dilma1turno['date'])"
   ]
  },
  {
   "cell_type": "code",
   "execution_count": 32,
   "metadata": {},
   "outputs": [],
   "source": [
    "dilma1turno.to_csv('Dados Treinamento/clasdilma1.txt',sep='\\t', mode='a',index=False)"
   ]
  },
  {
   "cell_type": "code",
   "execution_count": 33,
   "metadata": {},
   "outputs": [
    {
     "name": "stdout",
     "output_type": "stream",
     "text": [
      "The tweet with more likes is: \n",
      "porra  vcs estao vendo o resultado  aecio   atras da dilma   memorizem isso pra nao se guiar mais por pesquisa   tudo mentira \n",
      "Number of likes: 2261\n",
      "126 characters.\n",
      "\n",
      "The tweet with more retweets is: \n",
      "tudo isso pra chegar hoje e votar na dilma .. pic.twitter.com/uqocsna\n",
      "Number of retweets: 4140\n",
      "69 characters.\n",
      "\n"
     ]
    }
   ],
   "source": [
    "fav_max = np.max(dilma1turno['favorites'])\n",
    "rt_max  = np.max(dilma1turno['retweets'])\n",
    "\n",
    "fav = dilma1turno[dilma1turno.favorites == fav_max].index[0]1kkfav = dilma1turno[dilma1turno.1fav = dilma1turno[dilma1turno.favorites == fav_max].index[0]\n",
    "fav = dilma1turno[dilma1turno.favorites == fav_max].index[0]\n",
    "fav = dilma1turno[dilma1turno.favorites == fav_max].index[0]\n",
    "fav = dilma1turno[dilma1turno.favorites == fav_max].index[0]\n",
    "fav = dilma1turno[dilma1turno.favorites == fav_max].index[0]\n",
    "favorites == fav_max].index[0]\n",
    "\n",
    "rt  = dilma1turno[dilma1turno.retweets == rt_max].index[0]\n",
    "\n",
    "# Max FAVs:\n",
    "print(\"The tweet with more likes is: \\n{}\".format(dilma1turno['text'][fav]))\n",
    "print(\"Number of likes: {}\".format(fav_max))\n",
    "print(\"{} characters.\\n\".format(dilma1turno['len'][fav]))\n",
    "\n",
    "# Max RTs:\n",
    "print(\"The tweet with more retweets is: \\n{}\".format(dilma1turno['text'][rt]))\n",
    "print(\"Number of retweets: {}\".format(rt_max))\n",
    "print(\"{} characters.\\n\".format(dilma1turno['len'][rt]))"
   ]
  },
  {
   "cell_type": "raw",
   "metadata": {},
   "source": [
    "d2 = []\n",
    "for tweet in dilma2turno['score']:\n",
    "    d2.append(analyze_sentiment(tweet))\n",
    "    \n",
    "dilma2turno['sentiment'] = d2\n",
    "\n",
    "pos_tweets = [ tweet for index, tweet in enumerate(dilma2turno['sentiment']) if dilma2turno['sentiment'][index] == 'positivo']\n",
    "neu_tweets = [ tweet for index, tweet in enumerate(dilma2turno['sentiment']) if dilma2turno['sentiment'][index] == 'neutro']\n",
    "neg_tweets = [ tweet for index, tweet in enumerate(dilma2turno['sentiment']) if dilma2turno['sentiment'][index] == 'negativo']\n",
    "\n",
    "dilma2turno.to_csv('Dados Treinamento/clasdilma2.txt',sep='\\t', mode='a',index=False)\n",
    "dilma2turno=pd.read_csv(\"Dados Treinamento/clasdilma2.txt\",delimiter=\"\\t\",encoding='latin-1')\n",
    "\n",
    "print(\"Percentage of positive tweets: {}%\".format(len(pos_tweets)*100/len(dilma2turno['sentiment'])))\n",
    "print(\"Percentage of neutral tweets: {}%\".format(len(neu_tweets)*100/len(dilma2turno['sentiment'])))\n",
    "print(\"Percentage de negative tweets: {}%\".format(len(neg_tweets)*100/len(dilma2turno['sentiment'])))"
   ]
  },
  {
   "cell_type": "code",
   "execution_count": null,
   "metadata": {},
   "outputs": [],
   "source": [
    "a1 = []\n",
    "for tweet in aecio1turno['score']:\n",
    "    a1.append(analyze_sentiment(tweet))\n",
    "    \n",
    "aecio1turno['sentiment'] = a1\n",
    "aecio1turno.to_csv('Dados Treinamento/clasAecio1.txt',sep='\\t', mode='a',index=False)\n",
    "aecio1turno=pd.read_csv(\"Dados Treinamento/clasAecio1.txt\",delimiter=\"\\t\",encoding='latin-1')\n",
    "\n",
    "pos_tweets = [ tweet for index, tweet in enumerate(aecio1turno['sentiment']) if aecio1turno['sentiment'][index] == 'positivo']\n",
    "neu_tweets = [ tweet for index, tweet in enumerate(aecio1turno['sentiment']) if aecio1turno['sentiment'][index] == 'neutro']\n",
    "neg_tweets = [ tweet for index, tweet in enumerate(aecio1turno['sentiment']) if aecio1turno['sentiment'][index] == 'negativo']\n",
    "\n",
    "print(\"Percentage of positive tweets: {}%\".format(len(pos_tweets)*100/len(aecio1turno['sentiment'])))\n",
    "print(\"Percentage of neutral tweets: {}%\".format(len(neu_tweets)*100/len(aecio1turno['sentiment'])))\n",
    "print(\"Percentage de negative tweets: {}%\".format(len(neg_tweets)*100/len(aecio1turno['sentiment'])))\n"
   ]
  },
  {
   "cell_type": "code",
   "execution_count": null,
   "metadata": {},
   "outputs": [],
   "source": [
    "a2 = []\n",
    "for tweet in aecio2turno['score']:\n",
    "    a2.append(analyze_sentiment(tweet))\n",
    "    \n",
    "aecio2turno['sentiment'] = a2\n",
    "aecio2turno.to_csv('Dados Treinamento/clasAecio2.txt',sep='\\t', mode='a',index=False)\n",
    "aecio2turno=pd.read_csv(\"Dados Treinamento/clasAecio2.txt\",delimiter=\"\\t\",encoding='latin-1')\n",
    "\n",
    "pos_tweets = [ tweet for index, tweet in enumerate(aecio2turno['sentiment']) if aecio2turno['sentiment'][index] == 'positivo']\n",
    "neu_tweets = [ tweet for index, tweet in enumerate(aecio2turno['sentiment']) if aecio2turno['sentiment'][index] == 'neutro']\n",
    "neg_tweets = [ tweet for index, tweet in enumerate(aecio2turno['sentiment']) if aecio2turno['sentiment'][index] == 'negativo']\n",
    "\n",
    "print(\"Percentage of positive tweets: {}%\".format(len(pos_tweets)*100/len(aecio2turno['sentiment'])))\n",
    "print(\"Percentage of neutral tweets: {}%\".format(len(neu_tweets)*100/len(aecio2turno['sentiment'])))\n",
    "print(\"Percentage de negative tweets: {}%\".format(len(neg_tweets)*100/len(aecio2turno['sentiment'])))"
   ]
  }
 ],
 "metadata": {
  "kernelspec": {
   "display_name": "Python 3",
   "language": "python",
   "name": "python3"
  },
  "language_info": {
   "codemirror_mode": {
    "name": "ipython",
    "version": 3
   },
   "file_extension": ".py",
   "mimetype": "text/x-python",
   "name": "python",
   "nbconvert_exporter": "python",
   "pygments_lexer": "ipython3",
   "version": "3.6.4"
  }
 },
 "nbformat": 4,
 "nbformat_minor": 2
}
