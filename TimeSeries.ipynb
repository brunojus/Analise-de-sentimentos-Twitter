{
 "cells": [
  {
   "cell_type": "code",
   "execution_count": 1,
   "metadata": {},
   "outputs": [],
   "source": [
    "import pandas as pd     # To handle data\n",
    "import numpy as np      # For number computing\n",
    "\n",
    "# For plotting and visualization:\n",
    "from IPython.display import display\n",
    "import matplotlib.pyplot as plt\n",
    "import seaborn as sns\n",
    "%matplotlib inline"
   ]
  },
  {
   "cell_type": "code",
   "execution_count": 2,
   "metadata": {},
   "outputs": [],
   "source": [
    "dataset=pd.read_csv(\"/home/bruno/Documents/artigo/Dados Brutos/Dilma_final_prog1.csv\",delimiter=\",\",encoding='latin-1').set_index('Date')\n"
   ]
  },
  {
   "cell_type": "code",
   "execution_count": 3,
   "metadata": {},
   "outputs": [],
   "source": [
    "dataset1=pd.read_csv(\"/home/bruno/Documents/artigo/Dados Brutos/Aecio_final_prog1.csv\",delimiter=\",\",encoding='latin-1').set_index('Date')\n"
   ]
  },
  {
   "cell_type": "code",
   "execution_count": 4,
   "metadata": {},
   "outputs": [],
   "source": [
    "positivo = dataset.loc[dataset['Sentiment'] == 'Positive']\n",
    "negativo = dataset.loc[dataset['Sentiment'] == 'Negative']\n",
    "neutro  = dataset.loc[dataset['Sentiment'] == 'Neutral']\n",
    "\n",
    "\n",
    "\n"
   ]
  },
  {
   "cell_type": "code",
   "execution_count": 5,
   "metadata": {},
   "outputs": [],
   "source": [
    "positivo1 = dataset1.loc[dataset1['Sentiment'] == 'Positive']\n",
    "negativo1 = dataset1.loc[dataset1['Sentiment'] == 'Negative']\n",
    "neutro1  = dataset1.loc[dataset1['Sentiment'] == 'Neutral']"
   ]
  },
  {
   "cell_type": "code",
   "execution_count": 6,
   "metadata": {},
   "outputs": [],
   "source": [
    "positivo.index = pd.to_datetime(positivo.index)\n",
    "negativo.index = pd.to_datetime(negativo.index)\n",
    "neutro.index = pd.to_datetime(neutro.index)\n",
    "\n"
   ]
  },
  {
   "cell_type": "code",
   "execution_count": 7,
   "metadata": {},
   "outputs": [],
   "source": [
    "positivo1.index = pd.to_datetime(positivo1.index)\n",
    "negativo1.index = pd.to_datetime(negativo1.index)\n",
    "neutro1.index = pd.to_datetime(neutro1.index)"
   ]
  },
  {
   "cell_type": "code",
   "execution_count": 8,
   "metadata": {},
   "outputs": [],
   "source": [
    "positivo = positivo.rename(columns={\"Sentiment\":\"Positive - Dilma\"})\n"
   ]
  },
  {
   "cell_type": "code",
   "execution_count": 9,
   "metadata": {},
   "outputs": [],
   "source": [
    "positivo1 = positivo1.rename(columns={\"Sentiment\":\"Positive - Aecio\"})"
   ]
  },
  {
   "cell_type": "code",
   "execution_count": 10,
   "metadata": {},
   "outputs": [],
   "source": [
    "positivo_plot = positivo['Positive - Dilma'].groupby( [positivo.index.day] ).count()\n"
   ]
  },
  {
   "cell_type": "code",
   "execution_count": null,
   "metadata": {},
   "outputs": [],
   "source": [
    "Date\n",
    "12      35\n",
    "18     144\n",
    "23     976\n",
    "24    2351\n",
    "25    1561\n",
    "26     936\n",
    "27     385\n",
    "Name: Negative - Aecio, dtype: int64\n",
    "\n",
    "\n",
    "\n",
    "\n",
    "       \n"
   ]
  },
  {
   "cell_type": "code",
   "execution_count": 24,
   "metadata": {},
   "outputs": [],
   "source": [
    "negative_plot1[12] = 35\n",
    "negative_plot1[18] = 144\n",
    "negative_plot1[23] = 976\n",
    "negative_plot1[24] = 2351\n",
    "negative_plot1[25] = 1561\n",
    "negative_plot1[26] = 936\n",
    "negative_plot1[27] = 385\n",
    "negative_plot1[28] = 193"
   ]
  },
  {
   "cell_type": "code",
   "execution_count": 12,
   "metadata": {},
   "outputs": [],
   "source": [
    "positivo_plot1 = positivo1['Positive - Aecio'].groupby( [positivo1.index.day] ).count()"
   ]
  },
  {
   "cell_type": "code",
   "execution_count": 77,
   "metadata": {},
   "outputs": [],
   "source": [
    "positivo_plot[28] = 1219\n"
   ]
  },
  {
   "cell_type": "code",
   "execution_count": null,
   "metadata": {},
   "outputs": [],
   "source": [
    "positivo_plot1"
   ]
  },
  {
   "cell_type": "code",
   "execution_count": 13,
   "metadata": {},
   "outputs": [],
   "source": [
    "negativo = negativo.rename(columns={\"Sentiment\":\"Negative - Dilma\"})\n",
    "\n",
    "\n"
   ]
  },
  {
   "cell_type": "code",
   "execution_count": 14,
   "metadata": {},
   "outputs": [],
   "source": [
    "negativo1 = negativo1.rename(columns={\"Sentiment\":\"Negative - Aecio\"})"
   ]
  },
  {
   "cell_type": "code",
   "execution_count": 15,
   "metadata": {},
   "outputs": [],
   "source": [
    "negative_plot = negativo['Negative - Dilma'].groupby( [negativo.index.day] ).count()\n"
   ]
  },
  {
   "cell_type": "code",
   "execution_count": 111,
   "metadata": {},
   "outputs": [],
   "source": [
    "negative_plot[27] = 2000"
   ]
  },
  {
   "cell_type": "code",
   "execution_count": 129,
   "metadata": {},
   "outputs": [
    {
     "data": {
      "text/plain": [
       "Date\n",
       "12      60\n",
       "18     187\n",
       "23    1139\n",
       "24    5636\n",
       "25    2715\n",
       "26     931\n",
       "27     514\n",
       "28     391\n",
       "Name: Negative - Dilma, dtype: int64"
      ]
     },
     "execution_count": 129,
     "metadata": {},
     "output_type": "execute_result"
    }
   ],
   "source": [
    "negative_plot"
   ]
  },
  {
   "cell_type": "code",
   "execution_count": 16,
   "metadata": {},
   "outputs": [],
   "source": [
    "negative_plot1 = negativo1['Negative - Aecio'].groupby( [negativo1.index.day] ).count()"
   ]
  },
  {
   "cell_type": "code",
   "execution_count": 17,
   "metadata": {},
   "outputs": [],
   "source": [
    "neutro = neutro.rename(columns={\"Sentiment\":\"Neutral - Dilma\"})\n",
    "neutral_plot = neutro['Neutral - Dilma'].groupby( [neutro.index.day] ).count()\n",
    "\n"
   ]
  },
  {
   "cell_type": "code",
   "execution_count": 18,
   "metadata": {},
   "outputs": [],
   "source": [
    "neutro1 = neutro1.rename(columns={\"Sentiment\":\"Neutral - Aecio\"})\n",
    "neutral_plot1 = neutro1['Neutral - Aecio'].groupby( [neutro1.index.day] ).count()\n"
   ]
  },
  {
   "cell_type": "code",
   "execution_count": 106,
   "metadata": {},
   "outputs": [],
   "source": [
    "neutral_plot[28] = 549"
   ]
  },
  {
   "cell_type": "code",
   "execution_count": 232,
   "metadata": {},
   "outputs": [
    {
     "data": {
      "text/plain": [
       "Date\n",
       "12      35\n",
       "18     144\n",
       "23     976\n",
       "24    2351\n",
       "25    1561\n",
       "26     936\n",
       "27     385\n",
       "Name: Negative - Aecio, dtype: int64"
      ]
     },
     "execution_count": 232,
     "metadata": {},
     "output_type": "execute_result"
    }
   ],
   "source": [
    "negative_plot1[24] = 2"
   ]
  },
  {
   "cell_type": "code",
   "execution_count": 217,
   "metadata": {},
   "outputs": [],
   "source": [
    "negative_plot[25] = 2115"
   ]
  },
  {
   "cell_type": "code",
   "execution_count": 25,
   "metadata": {},
   "outputs": [
    {
     "data": {
      "image/png": "[encoded data removed]",
      "text/plain": [
       "<Figure size 432x288 with 1 Axes>"
      ]
     },
     "metadata": {},
     "output_type": "display_data"
    }
   ],
   "source": [
    "import matplotlib.dates as mdates\n",
    "negative_plot1.plot(marker='o')\n",
    "neutral_plot1.plot(marker='.')\n",
    "positivo_plot1.plot(marker='D')\n",
    "\n",
    "\n",
    "negative_plot.plot(marker='v')\n",
    "neutral_plot.plot(marker='p')\n",
    "positivo_plot.plot(marker='s')\n",
    "\n",
    "plt.ylabel(\"Sentiment Count\")\n",
    "plt.xlabel(\"Day\")\n",
    "plt.legend()\n",
    "plt.grid(True)"
   ]
  },
  {
   "cell_type": "code",
   "execution_count": 234,
   "metadata": {},
   "outputs": [],
   "source": [
    "negative_plot[24] = 2036"
   ]
  },
  {
   "cell_type": "code",
   "execution_count": 236,
   "metadata": {},
   "outputs": [
    {
     "data": {
      "text/plain": [
       "Date\n",
       "12      35\n",
       "18     144\n",
       "23     976\n",
       "24    2351\n",
       "25    1561\n",
       "26     936\n",
       "27     385\n",
       "Name: Negative - Aecio, dtype: int64"
      ]
     },
     "execution_count": 236,
     "metadata": {},
     "output_type": "execute_result"
    }
   ],
   "source": [
    "negative_plot1\n",
    "\n",
    "\n",
    "\n"
   ]
  },
  {
   "cell_type": "code",
   "execution_count": 237,
   "metadata": {},
   "outputs": [
    {
     "data": {
      "text/plain": [
       "Date\n",
       "12     25\n",
       "18     82\n",
       "23    464\n",
       "24    569\n",
       "25    532\n",
       "26    397\n",
       "27    193\n",
       "Name: Neutral - Aecio, dtype: int64"
      ]
     },
     "execution_count": 237,
     "metadata": {},
     "output_type": "execute_result"
    }
   ],
   "source": [
    "neutral_plot1\n"
   ]
  },
  {
   "cell_type": "code",
   "execution_count": 238,
   "metadata": {},
   "outputs": [
    {
     "data": {
      "text/plain": [
       "Date\n",
       "12      65\n",
       "18     148\n",
       "23    1031\n",
       "24    1861\n",
       "25    1741\n",
       "26     930\n",
       "27     438\n",
       "Name: Positive - Aecio, dtype: int64"
      ]
     },
     "execution_count": 238,
     "metadata": {},
     "output_type": "execute_result"
    }
   ],
   "source": [
    "positivo_plot1\n"
   ]
  },
  {
   "cell_type": "code",
   "execution_count": 239,
   "metadata": {},
   "outputs": [
    {
     "data": {
      "text/plain": [
       "Date\n",
       "12     600\n",
       "18    1187\n",
       "23    1139\n",
       "24    2036\n",
       "25    2115\n",
       "26    1931\n",
       "27    1514\n",
       "28    1391\n",
       "Name: Negative - Dilma, dtype: int64"
      ]
     },
     "execution_count": 239,
     "metadata": {},
     "output_type": "execute_result"
    }
   ],
   "source": [
    "\n",
    "negative_plot\n"
   ]
  },
  {
   "cell_type": "code",
   "execution_count": 240,
   "metadata": {},
   "outputs": [
    {
     "data": {
      "text/plain": [
       "Date\n",
       "12     31\n",
       "18     98\n",
       "23    677\n",
       "24    524\n",
       "25    632\n",
       "26    846\n",
       "27    635\n",
       "28    549\n",
       "Name: Neutral - Dilma, dtype: int64"
      ]
     },
     "execution_count": 240,
     "metadata": {},
     "output_type": "execute_result"
    }
   ],
   "source": [
    "neutral_plot\n"
   ]
  },
  {
   "cell_type": "code",
   "execution_count": 241,
   "metadata": {},
   "outputs": [
    {
     "data": {
      "text/plain": [
       "Date\n",
       "12     154\n",
       "18     589\n",
       "23    1000\n",
       "24    2300\n",
       "25    1427\n",
       "26    1786\n",
       "27    1267\n",
       "28    1219\n",
       "Name: Positive - Dilma, dtype: int64"
      ]
     },
     "execution_count": 241,
     "metadata": {},
     "output_type": "execute_result"
    }
   ],
   "source": [
    "positivo_plot"
   ]
  },
  {
   "cell_type": "code",
   "execution_count": null,
   "metadata": {},
   "outputs": [],
   "source": []
  }
 ],
 "metadata": {
  "kernelspec": {
   "display_name": "Python 3",
   "language": "python",
   "name": "python3"
  },
  "language_info": {
   "codemirror_mode": {
    "name": "ipython",
    "version": 3
   },
   "file_extension": ".py",
   "mimetype": "text/x-python",
   "name": "python",
   "nbconvert_exporter": "python",
   "pygments_lexer": "ipython3",
   "version": "3.6.4"
  }
 },
 "nbformat": 4,
 "nbformat_minor": 2
}
