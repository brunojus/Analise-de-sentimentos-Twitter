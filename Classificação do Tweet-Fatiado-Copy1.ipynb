{
 "cells": [
  {
   "cell_type": "code",
   "execution_count": 1,
   "metadata": {},
   "outputs": [],
   "source": [
    "from textblob import TextBlob\n",
    "import pandas as pd  \n",
    "import numpy as np\n",
    "from decimal import Decimal"
   ]
  },
  {
   "cell_type": "code",
   "execution_count": 2,
   "metadata": {},
   "outputs": [],
   "source": [
    "dilma1turno=pd.read_csv(\"ClassificadoTotal/clasdilma1.txt\",delimiter=\"\\t\",encoding='latin-1')\n"
   ]
  },
  {
   "cell_type": "code",
   "execution_count": null,
   "metadata": {},
   "outputs": [],
   "source": [
    "aecio1turno=pd.read_csv(\"Classificado/clasaecio1.txt\",delimiter=\"\\t\",encoding='latin-1')\n",
    "aecio2turno=pd.read_csv(\"Classificado/clasaecio2.txt\",delimiter=\"\\t\",encoding='latin-1')"
   ]
  },
  {
   "cell_type": "code",
   "execution_count": 4,
   "metadata": {},
   "outputs": [],
   "source": [
    "dilma1turno['score']= pd.to_numeric(dilma1turno['score'], errors='coerce')\n"
   ]
  },
  {
   "cell_type": "code",
   "execution_count": 5,
   "metadata": {},
   "outputs": [],
   "source": [
    "def analyze_sentiment(score):\n",
    "    score = float(score)\n",
    "    if score > 0:\n",
    "        return 'positivo'\n",
    "    elif score == 0:\n",
    "        return 'neutro'\n",
    "    else: \n",
    "        return 'negativo'"
   ]
  },
  {
   "cell_type": "code",
   "execution_count": 6,
   "metadata": {},
   "outputs": [
    {
     "name": "stdout",
     "output_type": "stream",
     "text": [
      "Percentage of positive tweets: 26.5475393041491%\n",
      "Percentage of neutral tweets: 39.402655738996806%\n",
      "Percentage de negative tweets: 22.22506796958115%\n"
     ]
    }
   ],
   "source": [
    "d1 = []\n",
    "for tweet in dilma1turno['score']:\n",
    "    d1.append(analyze_sentiment(tweet))\n",
    "    \n",
    "dilma1turno['sentiment'] = d1\n",
    "\n",
    "pos_tweets = [ tweet for index, tweet in enumerate(dilma1turno['sentiment']) if dilma1turno['sentiment'][index] == 'positivo']\n",
    "neu_tweets = [ tweet for index, tweet in enumerate(dilma1turno['sentiment']) if dilma1turno['sentiment'][index] == 'neutro']\n",
    "neg_tweets = [ tweet for index, tweet in enumerate(dilma1turno['sentiment']) if dilma1turno['sentiment'][index] == 'negativo']\n",
    "\n",
    "dilma1turno.to_csv('Dados Treinamento/clasdilma1.txt',sep='\\t', mode='a',index=False)\n",
    "dilma1turno=pd.read_csv(\"Dados Treinamento/clasdilma1.txt\",delimiter=\"\\t\",encoding='latin-1')\n",
    "\n",
    "print(\"Percentage of positive tweets: {}%\".format(len(pos_tweets)*100/len(dilma1turno['sentiment'])))\n",
    "print(\"Percentage of neutral tweets: {}%\".format(len(neu_tweets)*100/len(dilma1turno['sentiment'])))\n",
    "print(\"Percentage de negative tweets: {}%\".format(len(neg_tweets)*100/len(dilma1turno['sentiment'])))"
   ]
  },
  {
   "cell_type": "code",
   "execution_count": 8,
   "metadata": {},
   "outputs": [],
   "source": [
    "dilma1turno.to_csv('Dados Treinamento/clasdilma1.txt',sep='\\t', mode='a',index=False)"
   ]
  },
  {
   "cell_type": "code",
   "execution_count": null,
   "metadata": {},
   "outputs": [],
   "source": [
    "dilma2turno"
   ]
  },
  {
   "cell_type": "code",
   "execution_count": null,
   "metadata": {},
   "outputs": [],
   "source": [
    "d2 = []\n",
    "for tweet in dilma2turno['score']:\n",
    "    d2.append(analyze_sentiment(tweet))\n",
    "    \n",
    "dilma2turno['sentiment'] = d2\n",
    "\n",
    "pos_tweets = [ tweet for index, tweet in enumerate(dilma2turno['sentiment']) if dilma2turno['sentiment'][index] == 'positivo']\n",
    "neu_tweets = [ tweet for index, tweet in enumerate(dilma2turno['sentiment']) if dilma2turno['sentiment'][index] == 'neutro']\n",
    "neg_tweets = [ tweet for index, tweet in enumerate(dilma2turno['sentiment']) if dilma2turno['sentiment'][index] == 'negativo']\n",
    "\n",
    "dilma2turno.to_csv('Dados Treinamento/clasdilma2.txt',sep='\\t', mode='a',index=False)\n",
    "dilma2turno=pd.read_csv(\"Dados Treinamento/clasdilma2.txt\",delimiter=\"\\t\",encoding='latin-1')\n",
    "\n",
    "print(\"Percentage of positive tweets: {}%\".format(len(pos_tweets)*100/len(dilma2turno['sentiment'])))\n",
    "print(\"Percentage of neutral tweets: {}%\".format(len(neu_tweets)*100/len(dilma2turno['sentiment'])))\n",
    "print(\"Percentage de negative tweets: {}%\".format(len(neg_tweets)*100/len(dilma2turno['sentiment'])))"
   ]
  },
  {
   "cell_type": "code",
   "execution_count": null,
   "metadata": {},
   "outputs": [],
   "source": [
    "a1 = []\n",
    "for tweet in aecio1turno['score']:\n",
    "    a1.append(analyze_sentiment(tweet))\n",
    "    \n",
    "aecio1turno['sentiment'] = a1\n",
    "aecio1turno.to_csv('Dados Treinamento/clasAecio1.txt',sep='\\t', mode='a',index=False)\n",
    "aecio1turno=pd.read_csv(\"Dados Treinamento/clasAecio1.txt\",delimiter=\"\\t\",encoding='latin-1')\n",
    "\n",
    "pos_tweets = [ tweet for index, tweet in enumerate(aecio1turno['sentiment']) if aecio1turno['sentiment'][index] == 'positivo']\n",
    "neu_tweets = [ tweet for index, tweet in enumerate(aecio1turno['sentiment']) if aecio1turno['sentiment'][index] == 'neutro']\n",
    "neg_tweets = [ tweet for index, tweet in enumerate(aecio1turno['sentiment']) if aecio1turno['sentiment'][index] == 'negativo']\n",
    "\n",
    "print(\"Percentage of positive tweets: {}%\".format(len(pos_tweets)*100/len(aecio1turno['sentiment'])))\n",
    "print(\"Percentage of neutral tweets: {}%\".format(len(neu_tweets)*100/len(aecio1turno['sentiment'])))\n",
    "print(\"Percentage de negative tweets: {}%\".format(len(neg_tweets)*100/len(aecio1turno['sentiment'])))\n"
   ]
  },
  {
   "cell_type": "code",
   "execution_count": null,
   "metadata": {},
   "outputs": [],
   "source": [
    "a2 = []\n",
    "for tweet in aecio2turno['score']:\n",
    "    a2.append(analyze_sentiment(tweet))\n",
    "    \n",
    "aecio2turno['sentiment'] = a2\n",
    "aecio2turno.to_csv('Dados Treinamento/clasAecio2.txt',sep='\\t', mode='a',index=False)\n",
    "aecio2turno=pd.read_csv(\"Dados Treinamento/clasAecio2.txt\",delimiter=\"\\t\",encoding='latin-1')\n",
    "\n",
    "pos_tweets = [ tweet for index, tweet in enumerate(aecio2turno['sentiment']) if aecio2turno['sentiment'][index] == 'positivo']\n",
    "neu_tweets = [ tweet for index, tweet in enumerate(aecio2turno['sentiment']) if aecio2turno['sentiment'][index] == 'neutro']\n",
    "neg_tweets = [ tweet for index, tweet in enumerate(aecio2turno['sentiment']) if aecio2turno['sentiment'][index] == 'negativo']\n",
    "\n",
    "print(\"Percentage of positive tweets: {}%\".format(len(pos_tweets)*100/len(aecio2turno['sentiment'])))\n",
    "print(\"Percentage of neutral tweets: {}%\".format(len(neu_tweets)*100/len(aecio2turno['sentiment'])))\n",
    "print(\"Percentage de negative tweets: {}%\".format(len(neg_tweets)*100/len(aecio2turno['sentiment'])))"
   ]
  }
 ],
 "metadata": {
  "kernelspec": {
   "display_name": "Python 3",
   "language": "python",
   "name": "python3"
  },
  "language_info": {
   "codemirror_mode": {
    "name": "ipython",
    "version": 3
   },
   "file_extension": ".py",
   "mimetype": "text/x-python",
   "name": "python",
   "nbconvert_exporter": "python",
   "pygments_lexer": "ipython3",
   "version": "3.6.4"
  }
 },
 "nbformat": 4,
 "nbformat_minor": 2
}
