{
 "cells": [
  {
   "cell_type": "code",
   "execution_count": 23,
   "metadata": {},
   "outputs": [],
   "source": [
    "from nltk.tokenize import word_tokenize\n",
    "from itertools import chain\n",
    "import pandas as pd  \n",
    "import numpy as np\n",
    "from nltk.corpus import stopwords"
   ]
  },
  {
   "cell_type": "code",
   "execution_count": null,
   "metadata": {},
   "outputs": [],
   "source": [
    "def preprocess(sentence):\n",
    "    sentence = sentence.lower()\n",
    "    tokenizer = RegexpTokenizer(r'\\w+')\n",
    "    tokens = tokenizer.tokenize(sentence)\n",
    "    filtered_words = [w for w in tokens if not w in stopwords.words('portuguese')]\n",
    "    return \" \".join(filtered_words)"
   ]
  },
  {
   "cell_type": "code",
   "execution_count": 27,
   "metadata": {},
   "outputs": [],
   "source": [
    "dilma1turno=pd.read_csv(\"Dados Treinamento/clasdilma1.txt\",delimiter=\"\\t\",encoding='latin-1')\n",
    "dilma1turno['text']= dilma1turno['text'].replace(r'goo\\S+', '', regex=True).replace(r'pic\\S+', '', regex=True).replace(r'ow\\S+', '', regex=True).replace(r'fb\\S+','',regex=True)\n",
    "subset = dilma1turno[['text', 'sentiment']]\n",
    "tuples_dilma_1turno = [tuple(x) for x in subset.values]\n",
    "train_set, test_set = tuples_dilma_1turno[15000:], tuples_dilma_1turno[:100]\n",
    "\n"
   ]
  },
  {
   "cell_type": "code",
   "execution_count": 48,
   "metadata": {},
   "outputs": [],
   "source": [
    "for word in dilma1turno['text']: # iterate over word_list\n",
    "    if word in stopwords.words('portuguese'): \n",
    "        dilma1turno['text'].remove(word) "
   ]
  },
  {
   "cell_type": "code",
   "execution_count": 50,
   "metadata": {},
   "outputs": [],
   "source": [
    "vocabulary = set(chain(*[word_tokenize(i[0].lower()) for i in test_set]))\n"
   ]
  },
  {
   "cell_type": "code",
   "execution_count": 52,
   "metadata": {},
   "outputs": [],
   "source": [
    "feature_set = [({i:(i in word_tokenize(sentence.lower())) for i in vocabulary},tag) for sentence, tag in test_set]"
   ]
  },
  {
   "cell_type": "code",
   "execution_count": 54,
   "metadata": {},
   "outputs": [],
   "source": [
    "classifier = nbc.train(feature_set)"
   ]
  },
  {
   "cell_type": "code",
   "execution_count": 60,
   "metadata": {},
   "outputs": [],
   "source": [
    "test_sentence = \"Eu odeio a Dilma\"\n",
    "featurized_test_sentence =  {i:(i in word_tokenize(test_sentence.lower())) for i in vocabulary}"
   ]
  },
  {
   "cell_type": "code",
   "execution_count": 61,
   "metadata": {},
   "outputs": [
    {
     "name": "stdout",
     "output_type": "stream",
     "text": [
      "test_sent: Eu odeio a Dilma\n",
      "tag: neutro\n"
     ]
    }
   ],
   "source": [
    "print (\"test_sent:\",test_sentence)\n",
    "print (\"tag:\",classifier.classify(featurized_test_sentence))"
   ]
  },
  {
   "cell_type": "code",
   "execution_count": 44,
   "metadata": {},
   "outputs": [],
   "source": [
    "stopWords = set(stopwords.words('portuguese'))\n",
    "wordsFiltered = []\n",
    " \n",
    "for w in vocabulary:\n",
    "    if w not in stopWords:\n",
    "        wordsFiltered.append(w)"
   ]
  },
  {
   "cell_type": "code",
   "execution_count": 46,
   "metadata": {},
   "outputs": [],
   "source": [
    "feature_set = [({i:(i in word_tokenize(sentence.lower())) for i in wordsFiltered},tag) for sentence, tag in test_set]\n"
   ]
  },
  {
   "cell_type": "code",
   "execution_count": null,
   "metadata": {},
   "outputs": [],
   "source": [
    "classifier = nbc.train(feature_set)"
   ]
  },
  {
   "cell_type": "code",
   "execution_count": null,
   "metadata": {},
   "outputs": [],
   "source": [
    "test_sentence = \"Odeio a Dilma bandida\"\n",
    "featurized_test_sentence =  {i:(i in word_tokenize(test_sentence.lower())) for i in vocabulary}\n"
   ]
  },
  {
   "cell_type": "code",
   "execution_count": null,
   "metadata": {},
   "outputs": [],
   "source": [
    "print \"test_sent:\",test_sentence\n",
    "print \"tag:\",classifier.classify(featurized_test_sentence)"
   ]
  }
 ],
 "metadata": {
  "kernelspec": {
   "display_name": "Python 3",
   "language": "python",
   "name": "python3"
  },
  "language_info": {
   "codemirror_mode": {
    "name": "ipython",
    "version": 3
   },
   "file_extension": ".py",
   "mimetype": "text/x-python",
   "name": "python",
   "nbconvert_exporter": "python",
   "pygments_lexer": "ipython3",
   "version": "3.6.4"
  }
 },
 "nbformat": 4,
 "nbformat_minor": 2
}
