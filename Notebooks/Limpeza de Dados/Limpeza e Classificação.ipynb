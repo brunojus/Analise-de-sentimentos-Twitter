{
 "cells": [
  {
   "cell_type": "code",
   "execution_count": 1,
   "metadata": {},
   "outputs": [],
   "source": [
    "import pandas as pd  \n",
    "import numpy as np\n",
    "import matplotlib.pyplot as plt\n",
    "import csv\n",
    "from bs4 import BeautifulSoup\n",
    "import re\n",
    "from nltk.tokenize import WordPunctTokenizer\n",
    "tok = WordPunctTokenizer()"
   ]
  },
  {
   "cell_type": "code",
   "execution_count": 2,
   "metadata": {},
   "outputs": [],
   "source": [
    "dataset=pd.read_csv(\"Dados Treinamento/aecio_2turno_treinamento.txt\",delimiter=\"\\t\",encoding='latin-1')"
   ]
  },
  {
   "cell_type": "code",
   "execution_count": 3,
   "metadata": {},
   "outputs": [],
   "source": [
    "dataset['text'] = dataset['text'].replace(r'http:\\S+', '', regex=True).replace(r'#\\S+','',regex=True).replace(r'www\\S+', '', regex=True).replace(r'https:\\S+', '', regex=True).replace(r'instagram\\S+', '', regex=True).replace(r'j.mp\\S+', '', regex=True).replace(r'bit.ly\\S+','',regex=True).replace(r'@\\S+','',regex=True).replace(r'pic\\S+','',regex=True).replace(r'fb\\S+','',regex=True).replace(r'sfl\\S+','',regex=True).replace(r'kk\\S+','',regex=True).replace('n','').replace('q','').replace('nao','').replace('vao','').replace('ne','').replace('voces','').replace('vc','').replace('bua','').replace('fiinho','').replace('maie','').replace('maie','')"
   ]
  },
  {
   "cell_type": "code",
   "execution_count": 4,
   "metadata": {},
   "outputs": [],
   "source": [
    "def removestopwords(texto):\n",
    "    frases = []\n",
    "   \n",
    "    for palavras in texto:\n",
    "        \n",
    "        palavras = palavras.lower()\n",
    "        palavras = palavras.replace('?',' ')\n",
    "        palavras = palavras.replace('#','')\n",
    "        palavras = palavras.replace('!',' ')\n",
    "        palavras = palavras.replace('%',' ')\n",
    "        palavras = palavras.replace('. ',' ')\n",
    "        palavras = palavras.replace(')',' ')\n",
    "        palavras = palavras.replace('(',' ')\n",
    "        palavras = palavras.replace('-',' ')\n",
    "        palavras = palavras.replace(',',' ')\n",
    "        palavras = palavras.replace('/ ',' ')\n",
    "        palavras = palavras.replace('*',' ')\n",
    "        palavras = palavras.replace('=',' ')\n",
    "        palavras = palavras.replace(':','')\n",
    "        \n",
    "        palavras = palavras.replace('r$',' ')\n",
    "               \n",
    "        palavras = palavras.replace('á','a')\n",
    "        palavras = palavras.replace('à','a')\n",
    "        palavras = palavras.replace('â','a')\n",
    "        palavras = palavras.replace('ã','a')\n",
    "        \n",
    "        palavras = palavras.replace('é','e')\n",
    "        palavras = palavras.replace('è','e')\n",
    "        palavras = palavras.replace('ê','e')\n",
    "        \n",
    "        \n",
    "        palavras = palavras.replace('í','i')\n",
    "        palavras = palavras.replace('ì','i')\n",
    "        palavras = palavras.replace('î','i')\n",
    "                       \n",
    "        palavras = palavras.replace('ó','o')\n",
    "        palavras = palavras.replace('ò','o')\n",
    "        palavras = palavras.replace('ô','o')\n",
    "        palavras = palavras.replace('õ','o')\n",
    "        \n",
    "        palavras = palavras.replace('ú','u')\n",
    "        palavras = palavras.replace('ù','u')\n",
    "        palavras = palavras.replace('û','u')\n",
    "               \n",
    "        palavras = palavras.replace('ç','c')\n",
    "              \n",
    "        frases.append(palavras)\n",
    "                                    \n",
    "        \n",
    "    return frases\n",
    "\n",
    "\n",
    "        "
   ]
  },
  {
   "cell_type": "code",
   "execution_count": 5,
   "metadata": {},
   "outputs": [],
   "source": [
    "clean = removestopwords(dataset['text'])"
   ]
  },
  {
   "cell_type": "code",
   "execution_count": 6,
   "metadata": {},
   "outputs": [],
   "source": [
    "dataset['text'] = clean"
   ]
  },
  {
   "cell_type": "code",
   "execution_count": 7,
   "metadata": {},
   "outputs": [],
   "source": [
    "dataset.to_csv('Aecio_2turno_limpo.txt', sep='\\t', mode='a',index=False)"
   ]
  },
  {
   "cell_type": "code",
   "execution_count": 55,
   "metadata": {},
   "outputs": [
    {
     "data": {
      "text/plain": [
       "'Análise de Sentimentos'"
      ]
     },
     "execution_count": 55,
     "metadata": {},
     "output_type": "execute_result"
    }
   ],
   "source": [
    "\"\"\"Análise de Sentimentos\"\"\""
   ]
  },
  {
   "cell_type": "code",
   "execution_count": 54,
   "metadata": {},
   "outputs": [
    {
     "name": "stdout",
     "output_type": "stream",
     "text": [
      "Positivo, Pontuação: 1\n"
     ]
    }
   ],
   "source": [
    "# Abrimos o documento e lemos todas as informações\n",
    "sentilexpt = open(\"SentiLex-lem-PT01.txt\", 'r')\n",
    "\n",
    "# Criamos um dicionário para receber as informações\n",
    "dic_palavra_polaridade = {} \n",
    "\n",
    "# Neste trecho atribuímos a cada palavra uma Polaridade\n",
    "for i in sentilexpt.readlines(): \n",
    "    pos_ponto = i.find('.')\n",
    "    palavra = (i[:pos_ponto])\n",
    "    pol_pos = i.find('POL')\n",
    "    polaridade = (i[pol_pos+4:pol_pos+6]).replace(';','')\n",
    "    dic_palavra_polaridade[palavra] = polaridade\n",
    "\n",
    "\n",
    "def Pontuação_sentimento(frase):\n",
    "    frase = frase.lower()\n",
    "    l_sentimento = []\n",
    "\n",
    "    for p in frase.split():\n",
    "        l_sentimento.append(int(dic_palavra_polaridade.get(p, 0)))\n",
    "\n",
    "    if sum(l_sentimento) > 0:\n",
    "        return 'Positivo, Pontuação: {}'.format(sum(l_sentimento))\n",
    "    elif sum(l_sentimento) == 0:\n",
    "        return 'Neutro, Pontuação:{}'.format(sum(l_sentimento))\n",
    "    elif sum(l_sentimento) < 0:\n",
    "        return 'Negativo, Pontuação:{}'.format(sum(l_sentimento))\n",
    "\n",
    "\n",
    "frase = Pontuação_sentimento('Sua mãe é feliz')\n",
    "print(frase)\n"
   ]
  }
 ],
 "metadata": {
  "kernelspec": {
   "display_name": "Python 3",
   "language": "python",
   "name": "python3"
  },
  "language_info": {
   "codemirror_mode": {
    "name": "ipython",
    "version": 3
   },
   "file_extension": ".py",
   "mimetype": "text/x-python",
   "name": "python",
   "nbconvert_exporter": "python",
   "pygments_lexer": "ipython3",
   "version": "3.6.5"
  }
 },
 "nbformat": 4,
 "nbformat_minor": 2
}
