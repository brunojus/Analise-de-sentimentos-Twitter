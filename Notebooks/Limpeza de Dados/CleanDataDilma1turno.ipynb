{
 "cells": [
  {
   "cell_type": "code",
   "execution_count": 1,
   "metadata": {},
   "outputs": [],
   "source": [
    "import pandas as pd  \n",
    "import numpy as np\n",
    "import matplotlib.pyplot as plt\n",
    "import csv\n",
    "from bs4 import BeautifulSoup\n",
    "import re\n",
    "from nltk.tokenize import WordPunctTokenizer\n",
    "tok = WordPunctTokenizer()\n",
    "import nltk    \n",
    "from nltk import tokenize\n",
    "from nltk.corpus import stopwords"
   ]
  },
  {
   "cell_type": "code",
   "execution_count": 37,
   "metadata": {},
   "outputs": [],
   "source": [
    "dataset=pd.read_csv(\"Dados Treinamento/clasdilma1.txt\",delimiter=\"\\t\",encoding='latin-1')"
   ]
  },
  {
   "cell_type": "code",
   "execution_count": 38,
   "metadata": {},
   "outputs": [],
   "source": [
    "pattern = re.compile(r'\\b(' + r'|'.join(stopwords.words('portuguese')) + r')\\b\\s*')"
   ]
  },
  {
   "cell_type": "code",
   "execution_count": 39,
   "metadata": {},
   "outputs": [],
   "source": [
    "dataset['text'] = dataset['text'].replace(pattern,'',regex=True)"
   ]
  },
  {
   "cell_type": "code",
   "execution_count": 40,
   "metadata": {},
   "outputs": [],
   "source": [
    "dataset['text'] = dataset['text'].replace(r'[^a-zA-Z0-9\\s]','',regex=True)"
   ]
  },
  {
   "cell_type": "code",
   "execution_count": 4,
   "metadata": {},
   "outputs": [],
   "source": [
    "dataset['text']= dataset['text'].replace(r'http:\\S+', '', regex=True).replace(r'www\\S+', '', regex=True).replace(r'https:\\S+', '', regex=True).replace(r'instagram\\S+', '', regex=True).replace(r'j.mp\\S+', '', regex=True).replace(r'bit.ly\\S+','',regex=True).replace(r'@\\S+','',regex=True).replace(r'\\d+','',regex=True)"
   ]
  },
  {
   "cell_type": "code",
   "execution_count": 43,
   "metadata": {},
   "outputs": [],
   "source": [
    "def removestopwords(texto):\n",
    "    frases = []\n",
    "   \n",
    "    for palavras in texto:\n",
    "        \n",
    "        palavras = palavras.lower()\n",
    "        palavras = palavras.replace('?',' ')\n",
    "        palavras = palavras.replace('#','')\n",
    "        palavras = palavras.replace('!',' ')\n",
    "        palavras = palavras.replace('%',' ')\n",
    "        palavras = palavras.replace('. ',' ')\n",
    "        palavras = palavras.replace(')',' ')\n",
    "        palavras = palavras.replace('(',' ')\n",
    "        palavras = palavras.replace('-',' ')\n",
    "        palavras = palavras.replace(',',' ')\n",
    "        palavras = palavras.replace('/ ',' ')\n",
    "        palavras = palavras.replace('*',' ')\n",
    "        palavras = palavras.replace('=',' ')\n",
    "        palavras = palavras.replace(':','')\n",
    "        \n",
    "        palavras = palavras.replace('r$',' ')\n",
    "               \n",
    "        palavras = palavras.replace('á','a')\n",
    "        palavras = palavras.replace('à','a')\n",
    "        palavras = palavras.replace('â','a')\n",
    "        palavras = palavras.replace('ã','a')\n",
    "        \n",
    "        palavras = palavras.replace('é','e')\n",
    "        palavras = palavras.replace('è','e')\n",
    "        palavras = palavras.replace('ê','e')\n",
    "        \n",
    "\n",
    "        \n",
    "        palavras = palavras.replace('í','i')\n",
    "        palavras = palavras.replace('ì','i')\n",
    "        palavras = palavras.replace('î','i')\n",
    "                       \n",
    "        palavras = palavras.replace('ó','o')\n",
    "        palavras = palavras.replace('ò','o')\n",
    "        palavras = palavras.replace('ô','o')\n",
    "        palavras = palavras.replace('õ','o')\n",
    "        \n",
    "        palavras = palavras.replace('ú','u')\n",
    "        palavras = palavras.replace('ù','u')\n",
    "        palavras = palavras.replace('û','u')\n",
    "               \n",
    "        palavras = palavras.replace('ç','c')\n",
    "\n",
    "    return frases\n",
    "\n",
    "\n",
    "        "
   ]
  },
  {
   "cell_type": "code",
   "execution_count": 51,
   "metadata": {},
   "outputs": [],
   "source": [
    "dataset.to_csv('Dilma_1turno_limpo.txt', sep='\\t', mode='a',index=False)"
   ]
  },
  {
   "cell_type": "code",
   "execution_count": 52,
   "metadata": {},
   "outputs": [],
   "source": [
    "dataset1=pd.read_csv(\"Dilma_1turno_limpo.txt\",delimiter=\"\\t\",encoding='latin-1')"
   ]
  }
 ],
 "metadata": {
  "kernelspec": {
   "display_name": "Python 3",
   "language": "python",
   "name": "python3"
  },
  "language_info": {
   "codemirror_mode": {
    "name": "ipython",
    "version": 3
   },
   "file_extension": ".py",
   "mimetype": "text/x-python",
   "name": "python",
   "nbconvert_exporter": "python",
   "pygments_lexer": "ipython3",
   "version": "3.6.4"
  }
 },
 "nbformat": 4,
 "nbformat_minor": 2
}
