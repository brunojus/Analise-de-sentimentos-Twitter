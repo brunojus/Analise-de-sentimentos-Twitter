{
 "cells": [
  {
   "cell_type": "code",
   "execution_count": 59,
   "metadata": {},
   "outputs": [],
   "source": [
    "import pandas as pd  \n",
    "import numpy as np\n",
    "import matplotlib.pyplot as plt\n",
    "import csv\n",
    "from bs4 import BeautifulSoup\n",
    "import re\n",
    "from nltk.tokenize import WordPunctTokenizer\n",
    "tok = WordPunctTokenizer()\n",
    "import nltk    \n",
    "from nltk import tokenize\n",
    "from nltk.corpus import stopwords\n",
    "import preprocessor as p"
   ]
  },
  {
   "cell_type": "code",
   "execution_count": 356,
   "metadata": {
    "collapsed": true
   },
   "outputs": [],
   "source": [
    "deputado = 'zeca_cavalcanti.csv'"
   ]
  },
  {
   "cell_type": "code",
   "execution_count": 357,
   "metadata": {
    "collapsed": true
   },
   "outputs": [],
   "source": [
    "input1 = '~/artigoIEEE/Notebooks/Limpeza de Dados/dados_sujos/' + deputado\n",
    "output = '~/artigoIEEE/Notebooks/Limpeza de Dados/dados_limpos/' + deputado"
   ]
  },
  {
   "cell_type": "code",
   "execution_count": 358,
   "metadata": {},
   "outputs": [],
   "source": [
    "dataset=pd.read_csv(input1,delimiter=\";\",encoding='utf-8', error_bad_lines=False)\n"
   ]
  },
  {
   "cell_type": "code",
   "execution_count": 359,
   "metadata": {},
   "outputs": [],
   "source": [
    "pattern = re.compile(r'\\b(' + r'|'.join(stopwords.words('portuguese')) + r')\\b\\s*')"
   ]
  },
  {
   "cell_type": "code",
   "execution_count": 360,
   "metadata": {
    "collapsed": true
   },
   "outputs": [],
   "source": [
    "dataset['text'] = dataset['text'].replace(pattern,'',regex=True)"
   ]
  },
  {
   "cell_type": "code",
   "execution_count": 361,
   "metadata": {
    "collapsed": true
   },
   "outputs": [],
   "source": [
    "def removestopwords(texto):\n",
    "    frases = []\n",
    "   \n",
    "    for palavras in texto:\n",
    "        \n",
    "        palavras = str(palavras)\n",
    "        palavras = p.clean(palavras)\n",
    "        palavras = palavras.replace('?','')\n",
    "        palavras = palavras.replace('#','')\n",
    "        palavras = palavras.replace('!','')\n",
    "        palavras = palavras.replace('%','')\n",
    "        palavras = palavras.replace('.','')\n",
    "        palavras = palavras.replace(')','')\n",
    "        palavras = palavras.replace('(','')\n",
    "        palavras = palavras.replace('-','')\n",
    "        palavras = palavras.replace(',','')\n",
    "        palavras = palavras.replace('/ ','')\n",
    "        palavras = palavras.replace('*','')\n",
    "        palavras = palavras.replace('=','')\n",
    "        palavras = palavras.replace(':','')\n",
    "        palavras = \" \".join(palavras.split())\n",
    "        \n",
    "        palavras = palavras.replace('r$','')\n",
    "               \n",
    "        palavras = palavras.replace('á','a')\n",
    "        palavras = palavras.replace('à','a')\n",
    "        palavras = palavras.replace('â','a')\n",
    "        palavras = palavras.replace('ã','a')\n",
    "        \n",
    "        palavras = palavras.replace('é','e')\n",
    "        palavras = palavras.replace('è','e')\n",
    "        palavras = palavras.replace('ê','e')\n",
    "        \n",
    "\n",
    "        \n",
    "        palavras = palavras.replace('í','i')\n",
    "        palavras = palavras.replace('ì','i')\n",
    "        palavras = palavras.replace('î','i')\n",
    "                       \n",
    "        palavras = palavras.replace('ó','o')\n",
    "        palavras = palavras.replace('ò','o')\n",
    "        palavras = palavras.replace('ô','o')\n",
    "        palavras = palavras.replace('õ','o')\n",
    "        \n",
    "        palavras = palavras.replace('ú','u')\n",
    "        palavras = palavras.replace('ù','u')\n",
    "        palavras = palavras.replace('û','u')\n",
    "               \n",
    "        palavras = palavras.replace('ç','c')\n",
    "        \n",
    "        palavras = palavras.lower()\n",
    "        \n",
    "        frases.append(palavras)\n",
    "\n",
    "    return frases\n"
   ]
  },
  {
   "cell_type": "code",
   "execution_count": 362,
   "metadata": {
    "collapsed": true
   },
   "outputs": [],
   "source": [
    "palavras = removestopwords(dataset['text'])"
   ]
  },
  {
   "cell_type": "code",
   "execution_count": 363,
   "metadata": {
    "collapsed": true
   },
   "outputs": [],
   "source": [
    "dataset['text'] = palavras"
   ]
  },
  {
   "cell_type": "code",
   "execution_count": 364,
   "metadata": {
    "collapsed": true
   },
   "outputs": [],
   "source": [
    "dataset['text'] = dataset['text'].replace(r'[^a-zA-Z0-9\\s]','',regex=True)"
   ]
  },
  {
   "cell_type": "code",
   "execution_count": 365,
   "metadata": {
    "collapsed": true
   },
   "outputs": [],
   "source": [
    "dataset['text']= dataset['text'].replace(r'http\\S+', '', regex=True).replace(r'http:\\S+', '', regex=True).replace(r'www\\S+', '', regex=True).replace(r'https:\\S+', '', regex=True).replace(r'instagram\\S+', '', regex=True).replace(r'j.mp\\S+', '', regex=True).replace(r'bit.ly\\S+','',regex=True).replace(r'@\\S+','',regex=True).replace(r'pic\\D+','',regex=True).replace(r'fb\\D+','',regex=True).replace(r'sfl\\D+','',regex=True).replace(r'kk\\D+','',regex=True).replace('n','').replace('q','').replace('nao','').replace('vao','').replace('ne','').replace('voces','').replace('vc','').replace('bua','').replace('fiinho','').replace('maie','').replace('maie','')\n"
   ]
  },
  {
   "cell_type": "code",
   "execution_count": 366,
   "metadata": {},
   "outputs": [],
   "source": [
    "dataset.to_csv(output, sep=';', mode='a',index=False)"
   ]
  },
  {
   "cell_type": "code",
   "execution_count": null,
   "metadata": {
    "collapsed": true
   },
   "outputs": [],
   "source": []
  },
  {
   "cell_type": "code",
   "execution_count": null,
   "metadata": {
    "collapsed": true
   },
   "outputs": [],
   "source": []
  }
 ],
 "metadata": {
  "kernelspec": {
   "display_name": "Python 3",
   "language": "python",
   "name": "python3"
  },
  "language_info": {
   "codemirror_mode": {
    "name": "ipython",
    "version": 3
   },
   "file_extension": ".py",
   "mimetype": "text/x-python",
   "name": "python",
   "nbconvert_exporter": "python",
   "pygments_lexer": "ipython3",
   "version": "3.6.3"
  }
 },
 "nbformat": 4,
 "nbformat_minor": 2
}
