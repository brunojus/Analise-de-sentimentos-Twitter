{
 "cells": [
  {
   "cell_type": "code",
   "execution_count": 1,
   "metadata": {},
   "outputs": [],
   "source": [
    "import pandas as pd  \n",
    "import numpy as np\n",
    "import matplotlib.pyplot as plt\n",
    "import csv\n",
    "from bs4 import BeautifulSoup\n",
    "import re\n",
    "from nltk.tokenize import WordPunctTokenizer\n",
    "tok = WordPunctTokenizer()\n",
    "import nltk    \n",
    "from nltk import tokenize\n",
    "from nltk.corpus import stopwords"
   ]
  },
  {
   "cell_type": "code",
   "execution_count": 2,
   "metadata": {},
   "outputs": [],
   "source": [
    "dataset=pd.read_csv(\"/home/bruno/Documents/artigo/R/bolsonaro.csv\",delimiter=\",\",encoding='utf-8', error_bad_lines=False)\n"
   ]
  },
  {
   "cell_type": "code",
   "execution_count": 4,
   "metadata": {},
   "outputs": [],
   "source": [
    "pattern = re.compile(r'\\b(' + r'|'.join(stopwords.words('portuguese')) + r')\\b\\s*')"
   ]
  },
  {
   "cell_type": "code",
   "execution_count": 5,
   "metadata": {},
   "outputs": [],
   "source": [
    "dataset['text'] = dataset['text'].replace(pattern,'',regex=True)"
   ]
  },
  {
   "cell_type": "code",
   "execution_count": 6,
   "metadata": {},
   "outputs": [],
   "source": [
    "dataset['text']= dataset['text'].replace(r'http:\\S+', '', regex=True).replace().replace(r'www\\S+', '', regex=True).replace(r'https:\\S+', '', regex=True).replace(r'instagram\\S+', '', regex=True).replace(r'j.mp\\S+', '', regex=True).replace(r'bit.ly\\S+','',regex=True).replace(r'@\\S+','',regex=True).replace(r'pic\\D+','',regex=True).replace(r'fb\\D+','',regex=True).replace(r'sfl\\D+','',regex=True).replace(r'kk\\D+','',regex=True).replace('n','').replace('q','').replace('nao','').replace('vao','').replace('ne','').replace('voces','').replace('vc','').replace('bua','').replace('fiinho','').replace('maie','').replace('maie','')\n"
   ]
  },
  {
   "cell_type": "code",
   "execution_count": 7,
   "metadata": {},
   "outputs": [],
   "source": [
    "def removestopwords(texto):\n",
    "    frases = []\n",
    "   \n",
    "    for palavras in texto:\n",
    "        \n",
    "        palavras = str(palavras)\n",
    "        palavras = palavras.replace('?','')\n",
    "        palavras = palavras.replace('#','')\n",
    "        palavras = palavras.replace('!','')\n",
    "        palavras = palavras.replace('%','')\n",
    "        palavras = palavras.replace('.','')\n",
    "        palavras = palavras.replace(')','')\n",
    "        palavras = palavras.replace('(','')\n",
    "        palavras = palavras.replace('-','')\n",
    "        palavras = palavras.replace(',','')\n",
    "        palavras = palavras.replace('/ ','')\n",
    "        palavras = palavras.replace('*','')\n",
    "        palavras = palavras.replace('=','')\n",
    "        palavras = palavras.replace(':','')\n",
    "        palavras = ' '.join(palavras.split())\n",
    "        \n",
    "        palavras = palavras.replace('r$','')\n",
    "               \n",
    "        palavras = palavras.replace('á','a')\n",
    "        palavras = palavras.replace('à','a')\n",
    "        palavras = palavras.replace('â','a')\n",
    "        palavras = palavras.replace('ã','a')\n",
    "        \n",
    "        palavras = palavras.replace('é','e')\n",
    "        palavras = palavras.replace('è','e')\n",
    "        palavras = palavras.replace('ê','e')\n",
    "        \n",
    "\n",
    "        \n",
    "        palavras = palavras.replace('í','i')\n",
    "        palavras = palavras.replace('ì','i')\n",
    "        palavras = palavras.replace('î','i')\n",
    "                       \n",
    "        palavras = palavras.replace('ó','o')\n",
    "        palavras = palavras.replace('ò','o')\n",
    "        palavras = palavras.replace('ô','o')\n",
    "        palavras = palavras.replace('õ','o')\n",
    "        \n",
    "        palavras = palavras.replace('ú','u')\n",
    "        palavras = palavras.replace('ù','u')\n",
    "        palavras = palavras.replace('û','u')\n",
    "               \n",
    "        palavras = palavras.replace('ç','c')\n",
    "        \n",
    "        palavras = palavras.lower()\n",
    "        \n",
    "        frases.append(palavras)\n",
    "\n",
    "    return frases\n"
   ]
  },
  {
   "cell_type": "code",
   "execution_count": 8,
   "metadata": {},
   "outputs": [],
   "source": [
    "palavras = removestopwords(dataset['text'])"
   ]
  },
  {
   "cell_type": "code",
   "execution_count": 9,
   "metadata": {},
   "outputs": [],
   "source": [
    "dataset['text'] = palavras"
   ]
  },
  {
   "cell_type": "code",
   "execution_count": 10,
   "metadata": {},
   "outputs": [],
   "source": [
    "dataset['text'] = dataset['text'].replace(r'[^a-zA-Z0-9\\s]','',regex=True)"
   ]
  },
  {
   "cell_type": "code",
   "execution_count": 12,
   "metadata": {},
   "outputs": [],
   "source": [
    "   \n",
    "palavras = []\n",
    "for index, row in dataset.iterrows():\n",
    "    palavras.append(' '.join(dataset['text'][index].split()))"
   ]
  },
  {
   "cell_type": "code",
   "execution_count": 13,
   "metadata": {},
   "outputs": [],
   "source": [
    "dataset['text'] = palavras"
   ]
  },
  {
   "cell_type": "code",
   "execution_count": 14,
   "metadata": {},
   "outputs": [],
   "source": [
    "dataset['text'] = dataset['text'].str.strip()"
   ]
  },
  {
   "cell_type": "code",
   "execution_count": 96,
   "metadata": {},
   "outputs": [],
   "source": []
  },
  {
   "cell_type": "code",
   "execution_count": 15,
   "metadata": {},
   "outputs": [
    {
     "data": {
      "text/plain": [
       "0        se n nenhuma vergonha ser pobre n e motivo p v...\n",
       "1                                                        k\n",
       "2        deputado federal jair bolsonaro e precandidato...\n",
       "3        justica trabalho porque e proibido lei no e fa...\n",
       "4                              se pra polemizar posto nada\n",
       "5           bolsonaro e inevitavel melhor jair acostumando\n",
       "6             essa deve ter parentes mamando bolsa familia\n",
       "7        bixo e dar fontes diploma tem menos doutorado ...\n",
       "8                                 kkkkkkkkkkkkk e malucooo\n",
       "9                                        programa dedicado\n",
       "10                                            nao vc votar\n",
       "11                                      youtubedzfuqhuiwtu\n",
       "12                          eu votaria mais ai igual todos\n",
       "13       esperando mito manifestar sobre economia pq en...\n",
       "14                                      youtubedzfuqhuiwtu\n",
       "15                                                    2018\n",
       "16                                        mano n cansa neh\n",
       "17                                                      7h\n",
       "18       a deve milhoes milhoes receita se ganhar outra...\n",
       "19       esqueceu administracao publica orienta impesso...\n",
       "20       lula2018 bom jair acostumando twitterfolhastat...\n",
       "21       esses fdp vao tudo tomar rabo pois jair bolson...\n",
       "22                                           simples assim\n",
       "23       politico direita existe um o resto e enganacao...\n",
       "24                                      legal ainda provar\n",
       "25       nao preciso ficar listando empresa faz convers...\n",
       "26       nao preciso ficar listando empresa faz convers...\n",
       "27                      se cara vencer eleicoes voto nunca\n",
       "28                                       fica firme boraaa\n",
       "29                curiouscatdnailopost50 97331881528072771\n",
       "                               ...                        \n",
       "16070    googleampsnoticias uolbrconfereultimasnoticias...\n",
       "16071    jornalista desmoraliza ciro gomes ao vivo e mo...\n",
       "16072    tv cultura censura video sobre ciro gomes yt v...\n",
       "16073    risivel argumento gente defende ciro gomes pq ...\n",
       "16074                                           ciro gomes\n",
       "16075    gostei video youtube1ez1fjttzuautoritarismo ci...\n",
       "16076                                  to anotando aqui rs\n",
       "16077              o jogo 47 erros ciro gomes ifttt2lllr6j\n",
       "16078    vou comparar ciro gomes maduro politicos 4a ca...\n",
       "16079    gostei video youtubedsmcwnapefoab ernardo p ks...\n",
       "16080                       so ciro gomes roda viva online\n",
       "16081            timo aguardamos manifestacao interessados\n",
       "16082                    bernardo kuster acabou ciro gomes\n",
       "16083    em entrevista realizada ontem ciro gomes volto...\n",
       "16084    muitos partidos facilita ainda criacao esquema...\n",
       "16085    i liked video youtube30qf0jw4uoqciro gomes rod...\n",
       "16086    bem vc deve ser exatas pecando interpretacao n...\n",
       "16087    pior ciro gomes citando che enaltecendo churchill\n",
       "16088    ciro gomes por bernardo kster 29052018 youtube...\n",
       "16089                                        qual manda ai\n",
       "16090    e tipo grafico doria perfil aspirante fact che...\n",
       "16091    analise de ciro gomes por bernardo p kster you...\n",
       "16092    um dito popular explica bem dizeres ciro gomes...\n",
       "16093    inacreditavel alguem ideias poderes pra mudar ...\n",
       "16094                                  paspalhao serventia\n",
       "16095    proposta ciro 1 soltar lula proposta ciro 2 ab...\n",
       "16096    ressuscitaram postagem falando mal ciro e dize...\n",
       "16097    ouvi velhinho maluquinho sonha segundo turno c...\n",
       "16098    no esqueamos o partido do ciro gomes e o prpri...\n",
       "16099         ate manuela propostas melhores olha q e anta\n",
       "Name: text, Length: 16100, dtype: object"
      ]
     },
     "execution_count": 15,
     "metadata": {},
     "output_type": "execute_result"
    }
   ],
   "source": [
    "dataset['text']"
   ]
  },
  {
   "cell_type": "code",
   "execution_count": 16,
   "metadata": {},
   "outputs": [],
   "source": [
    "dataset.to_csv('/home/bruno/Documents/artigo/R/ciro_bolso.csv', sep='\\t', mode='a',index=False)"
   ]
  },
  {
   "cell_type": "code",
   "execution_count": null,
   "metadata": {},
   "outputs": [],
   "source": []
  }
 ],
 "metadata": {
  "kernelspec": {
   "display_name": "Python 3",
   "language": "python",
   "name": "python3"
  },
  "language_info": {
   "codemirror_mode": {
    "name": "ipython",
    "version": 3
   },
   "file_extension": ".py",
   "mimetype": "text/x-python",
   "name": "python",
   "nbconvert_exporter": "python",
   "pygments_lexer": "ipython3",
   "version": "3.6.4"
  }
 },
 "nbformat": 4,
 "nbformat_minor": 2
}
