{
 "cells": [
  {
   "cell_type": "code",
   "execution_count": 1,
   "metadata": {
    "collapsed": true
   },
   "outputs": [],
   "source": [
    "import pandas as pd  \n",
    "import tweepy\n",
    "\n",
    "consumer_key = \"H3lOJNG2EzkVEAqBxbSlaq61Z\"\n",
    "\n",
    "consumer_secret = \"DcgjAZFYw1tPJo4HzdDRWbj1aUwCg1jJ682UhH0ZLChovd4mzT\"\n",
    "\n",
    "access_token_secret = \"dtc3IpefPHh223KJ9CeAhotdH7II9b2zRHmGbnpiP47Ig\"\n",
    "\n",
    "access_token = \"52856333-MAGbQIsiLRNLeZcQaGzqHxsoK5tCPPxU437TJQrfZ\"\n",
    "\n",
    "auth = tweepy.OAuthHandler(consumer_key, consumer_secret)\n",
    "auth.set_access_token(access_token, access_token_secret)\n",
    "\n",
    "api = tweepy.API(auth)"
   ]
  },
  {
   "cell_type": "code",
   "execution_count": 8,
   "metadata": {
    "collapsed": true
   },
   "outputs": [],
   "source": [
    "deputado = 'mendonca_filho.csv'\n",
    "dados = '~/artigoIEEE/classificados/' + deputado\n",
    "saida = '~/artigoIEEE/local/' + deputado\n",
    "entrada=pd.read_csv(dados,delimiter=\";\",encoding='utf-8')"
   ]
  },
  {
   "cell_type": "code",
   "execution_count": 9,
   "metadata": {
    "collapsed": true
   },
   "outputs": [],
   "source": [
    "entrada['local'] = None"
   ]
  },
  {
   "cell_type": "code",
   "execution_count": null,
   "metadata": {},
   "outputs": [],
   "source": [
    "location = []\n",
    "for tweet in entrada['username']:\n",
    "    try:\n",
    "        user = api.get_user(tweet)\n",
    "        location.append(user.location)\n",
    "    except tweepy.TweepError as e:\n",
    "        location.append('Não Existe')"
   ]
  },
  {
   "cell_type": "code",
   "execution_count": null,
   "metadata": {
    "collapsed": true
   },
   "outputs": [],
   "source": [
    "entrada['local'] = location"
   ]
  },
  {
   "cell_type": "code",
   "execution_count": null,
   "metadata": {
    "collapsed": true
   },
   "outputs": [],
   "source": [
    "entrada.to_csv(saida, sep=';', mode='a',index=False)"
   ]
  },
  {
   "cell_type": "code",
   "execution_count": null,
   "metadata": {
    "collapsed": true
   },
   "outputs": [],
   "source": []
  }
 ],
 "metadata": {
  "kernelspec": {
   "display_name": "Python 3",
   "language": "python",
   "name": "python3"
  },
  "language_info": {
   "codemirror_mode": {
    "name": "ipython",
    "version": 3
   },
   "file_extension": ".py",
   "mimetype": "text/x-python",
   "name": "python",
   "nbconvert_exporter": "python",
   "pygments_lexer": "ipython3",
   "version": "3.6.3"
  }
 },
 "nbformat": 4,
 "nbformat_minor": 2
}
