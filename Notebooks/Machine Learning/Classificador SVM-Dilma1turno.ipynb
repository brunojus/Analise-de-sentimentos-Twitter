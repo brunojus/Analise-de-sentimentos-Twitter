{
 "cells": [
  {
   "cell_type": "code",
   "execution_count": 14,
   "metadata": {},
   "outputs": [],
   "source": [
    "import re, nltk\n",
    "from nltk.stem import WordNetLemmatizer\n",
    "from nltk.corpus import stopwords\n",
    "stop_words = set(stopwords.words('portuguese'))\n",
    "wordnet_lemmatizer = WordNetLemmatizer()\n",
    "\n",
    "def normalizer(tweet):\n",
    "    only_letters = re.sub(\"[^a-zA-Z]\", \" \",tweet) \n",
    "    tokens = nltk.word_tokenize(only_letters)[2:]\n",
    "    lower_case = [l.lower() for l in tokens]\n",
    "    filtered_result = list(filter(lambda l: l not in stop_words, lower_case))\n",
    "    lemmas = [wordnet_lemmatizer.lemmatize(t) for t in filtered_result]\n",
    "    return lemmas\n",
    "\n"
   ]
  },
  {
   "cell_type": "code",
   "execution_count": 15,
   "metadata": {},
   "outputs": [],
   "source": [
    "tweets=pd.read_csv(\"/home/bruno/Documents/artigo/R/Dilma_oplexiconLimpo.txt\",delimiter=\"\\t\",encoding='latin-1')\n"
   ]
  },
  {
   "cell_type": "code",
   "execution_count": 16,
   "metadata": {},
   "outputs": [
    {
     "data": {
      "text/html": [
       "<div>\n",
       "<style scoped>\n",
       "    .dataframe tbody tr th:only-of-type {\n",
       "        vertical-align: middle;\n",
       "    }\n",
       "\n",
       "    .dataframe tbody tr th {\n",
       "        vertical-align: top;\n",
       "    }\n",
       "\n",
       "    .dataframe thead th {\n",
       "        text-align: right;\n",
       "    }\n",
       "</style>\n",
       "<table border=\"1\" class=\"dataframe\">\n",
       "  <thead>\n",
       "    <tr style=\"text-align: right;\">\n",
       "      <th></th>\n",
       "      <th>text</th>\n",
       "      <th>normalized_tweet</th>\n",
       "    </tr>\n",
       "  </thead>\n",
       "  <tbody>\n",
       "    <tr>\n",
       "      <th>0</th>\n",
       "      <td>geraldo alckmin reeleito governador sao paulo ja ta decidido dilma vai pro segundo turno contra aecio neves aeciodevirada</td>\n",
       "      <td>[reeleito, governador, sao, paulo, ja, ta, decidido, dilma, vai, pro, segundo, turno, contra, aecio, neve, aeciodevirada]</td>\n",
       "    </tr>\n",
       "    <tr>\n",
       "      <th>1</th>\n",
       "      <td>dilma rousseff pt aecio neves psdb vao disputar turno</td>\n",
       "      <td>[pt, aecio, neve, psdb, vao, disputar, turno]</td>\n",
       "    </tr>\n",
       "    <tr>\n",
       "      <th>2</th>\n",
       "      <td>voces idolatrando aecio minimo nao sabem nada sobre governo so vao status odiar dilma parabens galera</td>\n",
       "      <td>[aecio, minimo, nao, sabem, nada, sobre, governo, so, vao, status, odiar, dilma, parabens, galera]</td>\n",
       "    </tr>\n",
       "    <tr>\n",
       "      <th>3</th>\n",
       "      <td>coisa nordestino votar dilma so causa bolsa familia mentira aqui trabalhador gentr q acorda cedo pra trabalha</td>\n",
       "      <td>[votar, dilma, so, causa, bolsa, familia, mentira, aqui, trabalhador, gentr, q, acorda, cedo, pra, trabalha]</td>\n",
       "    </tr>\n",
       "    <tr>\n",
       "      <th>4</th>\n",
       "      <td>unica coisa n queria alckmin governador dilma aceito</td>\n",
       "      <td>[n, queria, alckmin, governador, dilma, aceito]</td>\n",
       "    </tr>\n",
       "  </tbody>\n",
       "</table>\n",
       "</div>"
      ],
      "text/plain": [
       "                                                                                                                        text  \\\n",
       "0  geraldo alckmin reeleito governador sao paulo ja ta decidido dilma vai pro segundo turno contra aecio neves aeciodevirada   \n",
       "1  dilma rousseff pt aecio neves psdb vao disputar turno                                                                       \n",
       "2  voces idolatrando aecio minimo nao sabem nada sobre governo so vao status odiar dilma parabens galera                       \n",
       "3  coisa nordestino votar dilma so causa bolsa familia mentira aqui trabalhador gentr q acorda cedo pra trabalha               \n",
       "4  unica coisa n queria alckmin governador dilma aceito                                                                        \n",
       "\n",
       "                                                                                                            normalized_tweet  \n",
       "0  [reeleito, governador, sao, paulo, ja, ta, decidido, dilma, vai, pro, segundo, turno, contra, aecio, neve, aeciodevirada]  \n",
       "1  [pt, aecio, neve, psdb, vao, disputar, turno]                                                                              \n",
       "2  [aecio, minimo, nao, sabem, nada, sobre, governo, so, vao, status, odiar, dilma, parabens, galera]                         \n",
       "3  [votar, dilma, so, causa, bolsa, familia, mentira, aqui, trabalhador, gentr, q, acorda, cedo, pra, trabalha]               \n",
       "4  [n, queria, alckmin, governador, dilma, aceito]                                                                            "
      ]
     },
     "execution_count": 16,
     "metadata": {},
     "output_type": "execute_result"
    }
   ],
   "source": [
    "pd.set_option('display.max_colwidth', -1) # Setting this so we can see the full content of cells\n",
    "tweets['normalized_tweet'] = tweets.text.apply(normalizer)\n",
    "tweets[['text','normalized_tweet']].head()"
   ]
  },
  {
   "cell_type": "code",
   "execution_count": 17,
   "metadata": {},
   "outputs": [
    {
     "data": {
      "text/html": [
       "<div>\n",
       "<style scoped>\n",
       "    .dataframe tbody tr th:only-of-type {\n",
       "        vertical-align: middle;\n",
       "    }\n",
       "\n",
       "    .dataframe tbody tr th {\n",
       "        vertical-align: top;\n",
       "    }\n",
       "\n",
       "    .dataframe thead th {\n",
       "        text-align: right;\n",
       "    }\n",
       "</style>\n",
       "<table border=\"1\" class=\"dataframe\">\n",
       "  <thead>\n",
       "    <tr style=\"text-align: right;\">\n",
       "      <th></th>\n",
       "      <th>grams</th>\n",
       "    </tr>\n",
       "  </thead>\n",
       "  <tbody>\n",
       "    <tr>\n",
       "      <th>0</th>\n",
       "      <td>[reeleito governador, governador sao, sao paulo, paulo ja, ja ta, ta decidido, decidido dilma, dilma vai, vai pro, pro segundo, segundo turno, turno contra, contra aecio, aecio neve, neve aeciodevirada, reeleito governador sao, governador sao paulo, sao paulo ja, paulo ja ta, ja ta decidido, ta decidido dilma, decidido dilma vai, dilma vai pro, vai pro segundo, pro segundo turno, segundo turno contra, turno contra aecio, contra aecio neve, aecio neve aeciodevirada]</td>\n",
       "    </tr>\n",
       "    <tr>\n",
       "      <th>1</th>\n",
       "      <td>[pt aecio, aecio neve, neve psdb, psdb vao, vao disputar, disputar turno, pt aecio neve, aecio neve psdb, neve psdb vao, psdb vao disputar, vao disputar turno]</td>\n",
       "    </tr>\n",
       "    <tr>\n",
       "      <th>2</th>\n",
       "      <td>[aecio minimo, minimo nao, nao sabem, sabem nada, nada sobre, sobre governo, governo so, so vao, vao status, status odiar, odiar dilma, dilma parabens, parabens galera, aecio minimo nao, minimo nao sabem, nao sabem nada, sabem nada sobre, nada sobre governo, sobre governo so, governo so vao, so vao status, vao status odiar, status odiar dilma, odiar dilma parabens, dilma parabens galera]</td>\n",
       "    </tr>\n",
       "    <tr>\n",
       "      <th>3</th>\n",
       "      <td>[votar dilma, dilma so, so causa, causa bolsa, bolsa familia, familia mentira, mentira aqui, aqui trabalhador, trabalhador gentr, gentr q, q acorda, acorda cedo, cedo pra, pra trabalha, votar dilma so, dilma so causa, so causa bolsa, causa bolsa familia, bolsa familia mentira, familia mentira aqui, mentira aqui trabalhador, aqui trabalhador gentr, trabalhador gentr q, gentr q acorda, q acorda cedo, acorda cedo pra, cedo pra trabalha]</td>\n",
       "    </tr>\n",
       "    <tr>\n",
       "      <th>4</th>\n",
       "      <td>[n queria, queria alckmin, alckmin governador, governador dilma, dilma aceito, n queria alckmin, queria alckmin governador, alckmin governador dilma, governador dilma aceito]</td>\n",
       "    </tr>\n",
       "  </tbody>\n",
       "</table>\n",
       "</div>"
      ],
      "text/plain": [
       "                                                                                                                                                                                                                                                                                                                                                                                                                                                                                   grams\n",
       "0  [reeleito governador, governador sao, sao paulo, paulo ja, ja ta, ta decidido, decidido dilma, dilma vai, vai pro, pro segundo, segundo turno, turno contra, contra aecio, aecio neve, neve aeciodevirada, reeleito governador sao, governador sao paulo, sao paulo ja, paulo ja ta, ja ta decidido, ta decidido dilma, decidido dilma vai, dilma vai pro, vai pro segundo, pro segundo turno, segundo turno contra, turno contra aecio, contra aecio neve, aecio neve aeciodevirada]\n",
       "1  [pt aecio, aecio neve, neve psdb, psdb vao, vao disputar, disputar turno, pt aecio neve, aecio neve psdb, neve psdb vao, psdb vao disputar, vao disputar turno]                                                                                                                                                                                                                                                                                                                      \n",
       "2  [aecio minimo, minimo nao, nao sabem, sabem nada, nada sobre, sobre governo, governo so, so vao, vao status, status odiar, odiar dilma, dilma parabens, parabens galera, aecio minimo nao, minimo nao sabem, nao sabem nada, sabem nada sobre, nada sobre governo, sobre governo so, governo so vao, so vao status, vao status odiar, status odiar dilma, odiar dilma parabens, dilma parabens galera]                                                                               \n",
       "3  [votar dilma, dilma so, so causa, causa bolsa, bolsa familia, familia mentira, mentira aqui, aqui trabalhador, trabalhador gentr, gentr q, q acorda, acorda cedo, cedo pra, pra trabalha, votar dilma so, dilma so causa, so causa bolsa, causa bolsa familia, bolsa familia mentira, familia mentira aqui, mentira aqui trabalhador, aqui trabalhador gentr, trabalhador gentr q, gentr q acorda, q acorda cedo, acorda cedo pra, cedo pra trabalha]                                \n",
       "4  [n queria, queria alckmin, alckmin governador, governador dilma, dilma aceito, n queria alckmin, queria alckmin governador, alckmin governador dilma, governador dilma aceito]                                                                                                                                                                                                                                                                                                       "
      ]
     },
     "execution_count": 17,
     "metadata": {},
     "output_type": "execute_result"
    }
   ],
   "source": [
    "from nltk import ngrams\n",
    "def ngrams(input_list):\n",
    "    #onegrams = input_list\n",
    "    bigrams = [' '.join(t) for t in list(zip(input_list, input_list[1:]))]\n",
    "    trigrams = [' '.join(t) for t in list(zip(input_list, input_list[1:], input_list[2:]))]\n",
    "    return bigrams+trigrams\n",
    "tweets['grams'] = tweets.normalized_tweet.apply(ngrams)\n",
    "tweets[['grams']].head()"
   ]
  },
  {
   "cell_type": "code",
   "execution_count": 18,
   "metadata": {},
   "outputs": [],
   "source": [
    "import collections\n",
    "def count_words(input):\n",
    "    cnt = collections.Counter()\n",
    "    for row in input:\n",
    "        for word in row:\n",
    "            cnt[word] += 1\n",
    "    return cnt"
   ]
  },
  {
   "cell_type": "code",
   "execution_count": 19,
   "metadata": {},
   "outputs": [
    {
     "data": {
      "text/plain": [
       "[('votar dilma', 3783),\n",
       " ('segundo turno', 1834),\n",
       " ('dilma aecio', 1595),\n",
       " ('ano passado', 969),\n",
       " ('pra votar', 839),\n",
       " ('vota dilma', 629),\n",
       " ('aecio dilma', 581),\n",
       " ('dilma nao', 579),\n",
       " ('pra votar dilma', 575),\n",
       " ('povo burro', 552),\n",
       " ('votar aecio', 536),\n",
       " ('bolsa familia', 531),\n",
       " ('pra dilma', 491),\n",
       " ('votou dilma', 440),\n",
       " ('dilma novo', 418),\n",
       " ('pior dilma', 405),\n",
       " ('dilma vai', 403),\n",
       " ('vai ser', 398),\n",
       " ('vai votar', 362),\n",
       " ('votar nela', 347)]"
      ]
     },
     "execution_count": 19,
     "metadata": {},
     "output_type": "execute_result"
    }
   ],
   "source": [
    "tweets[(tweets.sentimento == 'negativo')][['grams']].apply(count_words)['grams'].most_common(20)"
   ]
  },
  {
   "cell_type": "code",
   "execution_count": 20,
   "metadata": {},
   "outputs": [
    {
     "data": {
      "text/plain": [
       "[('dilma aecio', 1040),\n",
       " ('segundo turno', 761),\n",
       " ('aecio dilma', 463),\n",
       " ('sao paulo', 401),\n",
       " ('aecio marina', 374),\n",
       " ('dilma marina', 345),\n",
       " ('dilma nao', 328),\n",
       " ('melhor dilma', 311),\n",
       " ('urnas apuradas', 297),\n",
       " ('apoiar dilma', 251),\n",
       " ('pra dilma', 251),\n",
       " ('dilma aecio marina', 232),\n",
       " ('lugar urnas', 228),\n",
       " ('dilma lugar', 225),\n",
       " ('dilma lugar urnas', 225),\n",
       " ('lugar urnas apuradas', 225),\n",
       " ('dilma sao', 217),\n",
       " ('bolsa familia', 213),\n",
       " ('vota dilma', 195),\n",
       " ('dilma vai', 181)]"
      ]
     },
     "execution_count": 20,
     "metadata": {},
     "output_type": "execute_result"
    }
   ],
   "source": [
    "tweets[(tweets.sentimento == 'positivo')][['grams']].apply(count_words)['grams'].most_common(20)"
   ]
  },
  {
   "cell_type": "code",
   "execution_count": 21,
   "metadata": {},
   "outputs": [],
   "source": [
    "import numpy as np\n",
    "from scipy.sparse import hstack\n",
    "from sklearn.feature_extraction.text import CountVectorizer\n",
    "count_vectorizer = CountVectorizer(ngram_range=(1,2))"
   ]
  },
  {
   "cell_type": "code",
   "execution_count": 22,
   "metadata": {},
   "outputs": [],
   "source": [
    "vectorized_data = count_vectorizer.fit_transform(tweets.text)\n",
    "indexed_data = hstack((np.array(range(0,vectorized_data.shape[0]))[:,None], vectorized_data))"
   ]
  },
  {
   "cell_type": "code",
   "execution_count": 25,
   "metadata": {},
   "outputs": [],
   "source": [
    "def sentiment2target(sentiment):\n",
    "    return {\n",
    "        'negativo': -1,\n",
    "        'neutro': 0,\n",
    "        'positivo' : 1\n",
    "    }[sentiment]\n",
    "targets = tweets.sentimento.apply(sentiment2target)"
   ]
  },
  {
   "cell_type": "code",
   "execution_count": 27,
   "metadata": {},
   "outputs": [],
   "source": [
    "from sklearn.model_selection import train_test_split\n",
    "data_train, data_test, targets_train, targets_test = train_test_split(indexed_data, targets, test_size=0.4, random_state=0)\n",
    "data_train_index = data_train[:,0]\n",
    "data_train = data_train[:,1:]\n",
    "data_test_index = data_test[:,0]\n",
    "data_test = data_test[:,1:]"
   ]
  },
  {
   "cell_type": "code",
   "execution_count": null,
   "metadata": {},
   "outputs": [],
   "source": [
    "from sklearn import svm\n",
    "from sklearn.multiclass import OneVsRestClassifier\n",
    "clf = OneVsRestClassifier(svm.SVC(gamma=0.01, C=100., probability=True, class_weight='balanced', kernel='linear'))\n",
    "clf_output = clf.fit(data_train, targets_train)"
   ]
  },
  {
   "cell_type": "code",
   "execution_count": null,
   "metadata": {},
   "outputs": [],
   "source": [
    "clf.score(data_test, targets_test)"
   ]
  },
  {
   "cell_type": "code",
   "execution_count": null,
   "metadata": {},
   "outputs": [],
   "source": []
  }
 ],
 "metadata": {
  "kernelspec": {
   "display_name": "Python 3",
   "language": "python",
   "name": "python3"
  },
  "language_info": {
   "codemirror_mode": {
    "name": "ipython",
    "version": 3
   },
   "file_extension": ".py",
   "mimetype": "text/x-python",
   "name": "python",
   "nbconvert_exporter": "python",
   "pygments_lexer": "ipython3",
   "version": "3.6.4"
  }
 },
 "nbformat": 4,
 "nbformat_minor": 2
}
