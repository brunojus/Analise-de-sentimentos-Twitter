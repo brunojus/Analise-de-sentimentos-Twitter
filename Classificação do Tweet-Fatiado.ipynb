{
 "cells": [
  {
   "cell_type": "code",
   "execution_count": null,
   "metadata": {},
   "outputs": [],
   "source": [
    "from textblob import TextBlob\n",
    "import pandas as pd  \n",
    "import numpy as np"
   ]
  },
  {
   "cell_type": "code",
   "execution_count": null,
   "metadata": {},
   "outputs": [],
   "source": [
    "dilma1turno=pd.read_csv(\"Dilma_1turno_limpo.txt\",delimiter=\"\\t\",encoding='latin-1')\n",
    "dilma2turno=pd.read_csv(\"Dilma_2turno_limpo.txt\",delimiter=\"\\t\",encoding='latin-1')"
   ]
  },
  {
   "cell_type": "code",
   "execution_count": null,
   "metadata": {},
   "outputs": [],
   "source": [
    "aecio1turno=pd.read_csv(\"Aecio_1turno_limpo.txt\",delimiter=\"\\t\",encoding='latin-1')\n",
    "aecio2turno=pd.read_csv(\"Aecio_2turno_limpo.txt\",delimiter=\"\\t\",encoding='latin-1')"
   ]
  },
  {
   "cell_type": "code",
   "execution_count": null,
   "metadata": {},
   "outputs": [],
   "source": [
    "def analize_sentiment(tweet):\n",
    "    analysis = TextBlob(tweet)\n",
    "    if analysis.detect_language() != 'en':\n",
    "        try:\n",
    "            analysis = TextBlob(str(analysis.translate(to='en')))\n",
    "        \n",
    "            return analysis.sentiment.polarity\n",
    "        except:\n",
    "            return 'olhar'\n",
    "    else:\n",
    "        return analysis.sentiment.polarity"
   ]
  },
  {
   "cell_type": "code",
   "execution_count": null,
   "metadata": {},
   "outputs": [],
   "source": [
    "dilma1turno_test = dilma1turno[:3000]\n",
    "dilma2turno_test = dilma2turno[:3000]\n",
    "aecio1turno_test = aecio1turno[:3000]\n",
    "aecio2turno_test = aecio2turno[:3000]\n",
    "d1 = []\n",
    "d2 = []\n",
    "a1 = []\n",
    "a2 = []"
   ]
  },
  {
   "cell_type": "code",
   "execution_count": null,
   "metadata": {},
   "outputs": [],
   "source": [
    "for tweet in dilma1turno_test['text']:\n",
    "    d1.append(analize_sentiment(tweet))\n",
    "    \n",
    "pd.reset_option('mode.chained_assignment')\n",
    "\n",
    "with pd.option_context('mode.chained_assignment', None):\n",
    "    dilma1turno_test['score'] = d1\n",
    "dilma1turno_test.to_csv('clasdilma1.txt',sep='\\t', mode='a',index=False)"
   ]
  },
  {
   "cell_type": "code",
   "execution_count": null,
   "metadata": {},
   "outputs": [],
   "source": [
    "for tweet in dilma2turno_test['text']:\n",
    "    d2.append(analize_sentiment(tweet))\n",
    "    \n",
    "pd.reset_option('mode.chained_assignment')\n",
    "\n",
    "with pd.option_context('mode.chained_assignment', None):\n",
    "    dilma2turno_test['score'] = d2\n",
    "dilma2turno_test.to_csv('clasdilma2.txt',sep='\\t', mode='a',index=False)"
   ]
  },
  {
   "cell_type": "code",
   "execution_count": null,
   "metadata": {},
   "outputs": [],
   "source": [
    "for tweet in aecio1turno_test['text']:\n",
    "    tweet = str(tweet)\n",
    "    if(len(tweet)>3):\n",
    "        a1.append(analize_sentiment(tweet))\n",
    "        \n",
    "pd.reset_option('mode.chained_assignment')\n",
    "\n",
    "with pd.option_context('mode.chained_assignment', None):\n",
    "    aecio1turno_test['score'] = a1[:3000]\n",
    "    \n",
    "aecio1turno_test.to_csv('clasaecio1.txt',sep='\\t', mode='a',index=False)"
   ]
  },
  {
   "cell_type": "code",
   "execution_count": null,
   "metadata": {},
   "outputs": [],
   "source": [
    "count = 0\n",
    "for tweet in aecio2turno_test['text']:\n",
    "    tweet = str(tweet)\n",
    "    if(len(tweet)>3):\n",
    "        a2.append(analize_sentiment(tweet))\n",
    "        count = count+1\n",
    "        if(count%10==0):\n",
    "            print(count)\n",
    "count = 0\n",
    "print('Salvei o Quarto')"
   ]
  },
  {
   "cell_type": "code",
   "execution_count": null,
   "metadata": {},
   "outputs": [],
   "source": [
    "pd.reset_option('mode.chained_assignment')\n",
    "\n",
    "with pd.option_context('mode.chained_assignment', None):\n",
    "    aecio2turno_test['score'] = a2[:3000]\n",
    "    \n",
    "aecio2turno_test.to_csv('clasaecio2.txt',sep='\\t', mode='a',index=False)"
   ]
  }
 ],
 "metadata": {
  "kernelspec": {
   "display_name": "Python 3",
   "language": "python",
   "name": "python3"
  },
  "language_info": {
   "codemirror_mode": {
    "name": "ipython",
    "version": 3
   },
   "file_extension": ".py",
   "mimetype": "text/x-python",
   "name": "python",
   "nbconvert_exporter": "python",
   "pygments_lexer": "ipython3",
   "version": "3.6.4"
  }
 },
 "nbformat": 4,
 "nbformat_minor": 2
}
