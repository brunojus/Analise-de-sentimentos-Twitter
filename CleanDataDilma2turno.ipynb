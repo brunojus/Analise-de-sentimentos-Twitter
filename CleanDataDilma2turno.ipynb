{
 "cells": [
  {
   "cell_type": "code",
   "execution_count": 35,
   "metadata": {},
   "outputs": [],
   "source": [
    "import pandas as pd  \n",
    "import numpy as np\n",
    "import matplotlib.pyplot as plt\n",
    "import csv\n",
    "from bs4 import BeautifulSoup\n",
    "import re\n",
    "from nltk.tokenize import WordPunctTokenizer\n",
    "tok = WordPunctTokenizer()"
   ]
  },
  {
   "cell_type": "code",
   "execution_count": 36,
   "metadata": {},
   "outputs": [],
   "source": [
    "dataset=pd.read_csv(\"dilma2turnoconsolidado.txt\",delimiter=\"\\t\",encoding='latin-1')"
   ]
  },
  {
   "cell_type": "code",
   "execution_count": 37,
   "metadata": {},
   "outputs": [],
   "source": [
    "dataset['text']= dataset['text'].replace(r'http:\\S+', '', regex=True).replace(r'www\\S+', '', regex=True).replace(r'https:\\S+', '', regex=True).replace(r'instagram\\S+', '', regex=True).replace(r'j.mp\\S+', '', regex=True).replace(r'bit.ly\\S+','',regex=True).replace(r'@\\S+','',regex=True).replace(r'\\d+','',regex=True)"
   ]
  },
  {
   "cell_type": "code",
   "execution_count": 38,
   "metadata": {},
   "outputs": [],
   "source": [
    "def removestopwords(texto):\n",
    "    frases = []\n",
    "   \n",
    "    for palavras in texto:\n",
    "        \n",
    "        palavras = palavras.lower()\n",
    "        palavras = palavras.replace('?',' ')\n",
    "        palavras = palavras.replace('#','')\n",
    "        palavras = palavras.replace('!',' ')\n",
    "        palavras = palavras.replace('%',' ')\n",
    "        palavras = palavras.replace('. ',' ')\n",
    "        palavras = palavras.replace(')',' ')\n",
    "        palavras = palavras.replace('(',' ')\n",
    "        palavras = palavras.replace('-',' ')\n",
    "        palavras = palavras.replace(',',' ')\n",
    "        palavras = palavras.replace('/ ',' ')\n",
    "        palavras = palavras.replace('*',' ')\n",
    "        palavras = palavras.replace('=',' ')\n",
    "        palavras = palavras.replace(':','')\n",
    "        \n",
    "        palavras = palavras.replace('r$',' ')\n",
    "               \n",
    "        palavras = palavras.replace('á','a')\n",
    "        palavras = palavras.replace('à','a')\n",
    "        palavras = palavras.replace('â','a')\n",
    "        palavras = palavras.replace('ã','a')\n",
    "        \n",
    "        palavras = palavras.replace('é','e')\n",
    "        palavras = palavras.replace('è','e')\n",
    "        palavras = palavras.replace('ê','e')\n",
    "        \n",
    "        \n",
    "        palavras = palavras.replace('í','i')\n",
    "        palavras = palavras.replace('ì','i')\n",
    "        palavras = palavras.replace('î','i')\n",
    "                       \n",
    "        palavras = palavras.replace('ó','o')\n",
    "        palavras = palavras.replace('ò','o')\n",
    "        palavras = palavras.replace('ô','o')\n",
    "        palavras = palavras.replace('õ','o')\n",
    "        \n",
    "        palavras = palavras.replace('ú','u')\n",
    "        palavras = palavras.replace('ù','u')\n",
    "        palavras = palavras.replace('û','u')\n",
    "               \n",
    "        palavras = palavras.replace('ç','c')\n",
    "              \n",
    "        frases.append(palavras)\n",
    "                                    \n",
    "        \n",
    "    return frases\n",
    "\n",
    "\n",
    "        "
   ]
  },
  {
   "cell_type": "code",
   "execution_count": 39,
   "metadata": {},
   "outputs": [],
   "source": [
    "clean = removestopwords(dataset['text'])"
   ]
  },
  {
   "cell_type": "code",
   "execution_count": 40,
   "metadata": {},
   "outputs": [],
   "source": [
    "dataset['text'] = clean"
   ]
  },
  {
   "cell_type": "code",
   "execution_count": 41,
   "metadata": {},
   "outputs": [],
   "source": [
    "dataset.to_csv('Dilma_2turno_limpo.txt', sep='\\t', mode='a',index=False)"
   ]
  },
  {
   "cell_type": "code",
   "execution_count": 34,
   "metadata": {},
   "outputs": [
    {
     "name": "stderr",
     "output_type": "stream",
     "text": [
      "/home/bruno/anaconda3/lib/python3.6/site-packages/IPython/core/interactiveshell.py:2728: DtypeWarning: Columns (2,3) have mixed types. Specify dtype option on import or set low_memory=False.\n",
      "  interactivity=interactivity, compiler=compiler, result=result)\n"
     ]
    }
   ],
   "source": [
    "dataset1=pd.read_csv(\"Dilma_2turno_limpo.txt\",delimiter=\"\\t\",encoding='latin-1',low_memory=False)"
   ]
  },
  {
   "cell_type": "code",
   "execution_count": 33,
   "metadata": {},
   "outputs": [
    {
     "data": {
      "text/plain": [
       "0         olha a onda de dilma tarso dilma tarso dilma t...\n",
       "1         fazer o que   aecio tem a midia e a elite econ...\n",
       "2         veja fracassara no intento criminoso\"  tuitou ...\n",
       "3         gostei de um video  de   youtu.be/naotglywp a ...\n",
       "4         dilma   orgulho nosso que coragem  a primeira ...\n",
       "5         dilma  apuracao das denuncias de corrupcao psd...\n",
       "6         debatenaglobo dilma  aecio suas obras nao sao ...\n",
       "7          bateu o desespero no pt milicias chavistas da...\n",
       "8         gente imagina se proibem a dilma de falar no q...\n",
       "9         so olhar cara da dilma vemosmentira e prevaric...\n",
       "10        ficaram devendo.. dilma e aecio nao consultam ...\n",
       "11         ridiculo o psdb usar a materia da veja como a...\n",
       "12             jaja tem dilma vs aecio no octogono da globo\n",
       "13        aecie neves eleito gov em minas com mais de   ...\n",
       "14        willian bonner ai  sai dilma \" debatenaglobo v...\n",
       "15                    doido e quem vota na dilma   de rocha\n",
       "16        aecio depoimento de doleiro indica caixa dois ...\n",
       "17        nao tenho nada contra aecio e nada contra dilm...\n",
       "18           isso so termina se a dilma convocar o estad...\n",
       "19        cala a boca  dilma coracao covarde   fb.me/fip...\n",
       "20            somostodosdilma mostra quem e que manda dilma\n",
       "21                  boa noite pra quem vai votar na dilma .\n",
       "22         dilma pagou ibope com dinheiro do gov  portal...\n",
       "23        aguentar as propagandas do aecioporto nos inte...\n",
       "24                   queremos dilma de novo somostodosdilma\n",
       "25            quem nasceu pra ser dilma nunca vai ser aecio\n",
       "26        dilma respeite o povo brasileiro e vaza  votoa...\n",
       "27        o dilma fc entra escalado com lula  dirceu  ge...\n",
       "28                                        dilma e meu pauuu\n",
       "29                              vamos montesqnto com dilma \n",
       "                                ...                        \n",
       "335293    fiz umas continhas  sem rigor cientifico  se m...\n",
       "335294    segundo turno e importantissimo para a democra...\n",
       "335295    esse segundo turno com as opcoes de voto sendo...\n",
       "335296    atencao  as datas dos debates entre dilma e ae...\n",
       "335297    felicitaciones a todo brasil  el triunfo de di...\n",
       "335298    eu nao fui as ruas protestar mas meu voto com ...\n",
       "335299    seguimos juntos com dilma no segundo turno  pr...\n",
       "335300     ele tem propostas mais consistentes de combat...\n",
       "335301    phds acham que complica pra dilma se aecio for...\n",
       "335302    sem mais   marina silva e eliminada da nave lo...\n",
       "335303    vou trabalhar pela dilma   pelo lula  por outr...\n",
       "335304                   e bala na piranha da dilma sapatao\n",
       "335305    tudo isso pra chegar hoje e votarem na dilma ....\n",
       "335306    o legado de dilma retratado em oito graficos  ...\n",
       "335307    entao  vamos todos combinar se aparecer algum ...\n",
       "335308       of the vote processed dilma  pt    aecio  p...\n",
       "335309     minuto com augusto nunes promessas da dilma  ...\n",
       "335310    bbc news   brazil's dilma rousseff to face pre...\n",
       "335311             se cuida dilma   que o aecio ta chegando\n",
       "335312    ja preparando circulos de oracao pra dilma ganhar\n",
       "335313                     dilma vai ganhar se ja nao ganho\n",
       "335314    estamos sem agua  vota denovo no geraldao  o p...\n",
       "335315    meu deputado  foi reeleito agora a equipe tem ...\n",
       "335316      vemprarua pra votar na dilma  olha  que  amigos\n",
       "335317    agora ° turno definido dilma versus pig vamos ...\n",
       "335318    eleccionesenbrasil  conoce a    la amenaza de ...\n",
       "335319                   voces vao votar na dilma mesmo    \n",
       "335320                                       votem na dilma\n",
       "335321    nao precisa xingar quem vota na dilma   precis...\n",
       "335322    dilma    marina    aecio    cpm    ben    onze...\n",
       "Name: text, Length: 335323, dtype: object"
      ]
     },
     "execution_count": 33,
     "metadata": {},
     "output_type": "execute_result"
    }
   ],
   "source": [
    "dataset['text']"
   ]
  },
  {
   "cell_type": "code",
   "execution_count": null,
   "metadata": {},
   "outputs": [],
   "source": []
  }
 ],
 "metadata": {
  "kernelspec": {
   "display_name": "Python 3",
   "language": "python",
   "name": "python3"
  },
  "language_info": {
   "codemirror_mode": {
    "name": "ipython",
    "version": 3
   },
   "file_extension": ".py",
   "mimetype": "text/x-python",
   "name": "python",
   "nbconvert_exporter": "python",
   "pygments_lexer": "ipython3",
   "version": "3.6.4"
  }
 },
 "nbformat": 4,
 "nbformat_minor": 2
}
