{
 "cells": [
  {
   "cell_type": "code",
   "execution_count": 1,
   "metadata": {},
   "outputs": [],
   "source": [
    "import numpy as np\n",
    "import matplotlib.pyplot as plt"
   ]
  },
  {
   "cell_type": "code",
   "execution_count": 1,
   "metadata": {},
   "outputs": [],
   "source": [
    "def y(x):\n",
    "    y = 0.5*x + 0.4*1\n",
    "    return y"
   ]
  },
  {
   "cell_type": "code",
   "execution_count": 3,
   "metadata": {},
   "outputs": [],
   "source": [
    "a = np.hstack(x)"
   ]
  },
  {
   "cell_type": "code",
   "execution_count": 4,
   "metadata": {},
   "outputs": [
    {
     "data": {
      "text/plain": [
       "0.9907928592392067"
      ]
     },
     "execution_count": 4,
     "metadata": {},
     "output_type": "execute_result"
    }
   ],
   "source": [
    "np.var(a)\n"
   ]
  },
  {
   "cell_type": "code",
   "execution_count": 5,
   "metadata": {},
   "outputs": [
    {
     "data": {
      "text/plain": [
       "-0.00853465647829243"
      ]
     },
     "execution_count": 5,
     "metadata": {},
     "output_type": "execute_result"
    }
   ],
   "source": [
    "np.mean(a)"
   ]
  },
  {
   "cell_type": "code",
   "execution_count": 11,
   "metadata": {},
   "outputs": [],
   "source": [
    "mu = a.sum()"
   ]
  },
  {
   "cell_type": "code",
   "execution_count": 6,
   "metadata": {},
   "outputs": [
    {
     "data": {
      "text/plain": [
       "(array([  1.,   0.,   0.,   1.,   1.,   3.,   1.,   6.,   4.,   6.,  18.,\n",
       "         21.,  21.,  34.,  43.,  55.,  87.,  83.,  95., 136., 171., 208.,\n",
       "        253., 252., 317., 318., 356., 402., 464., 456., 480., 484., 527.,\n",
       "        501., 501., 423., 439., 395., 359., 358., 300., 266., 231., 185.,\n",
       "        147., 152., 119.,  78.,  66.,  39.,  39.,  35.,  21.,  15.,   7.,\n",
       "          8.,   3.,   2.,   2.,   2.,   3.]),\n",
       " array([-4.02363892, -3.8996271 , -3.77561527, -3.65160345, -3.52759162,\n",
       "        -3.4035798 , -3.27956797, -3.15555615, -3.03154432, -2.9075325 ,\n",
       "        -2.78352067, -2.65950885, -2.53549702, -2.4114852 , -2.28747337,\n",
       "        -2.16346155, -2.03944972, -1.9154379 , -1.79142607, -1.66741425,\n",
       "        -1.54340242, -1.4193906 , -1.29537877, -1.17136694, -1.04735512,\n",
       "        -0.92334329, -0.79933147, -0.67531964, -0.55130782, -0.42729599,\n",
       "        -0.30328417, -0.17927234, -0.05526052,  0.06875131,  0.19276313,\n",
       "         0.31677496,  0.44078678,  0.56479861,  0.68881043,  0.81282226,\n",
       "         0.93683408,  1.06084591,  1.18485773,  1.30886956,  1.43288138,\n",
       "         1.55689321,  1.68090503,  1.80491686,  1.92892869,  2.05294051,\n",
       "         2.17695234,  2.30096416,  2.42497599,  2.54898781,  2.67299964,\n",
       "         2.79701146,  2.92102329,  3.04503511,  3.16904694,  3.29305876,\n",
       "         3.41707059,  3.54108241]),\n",
       " <a list of 61 Patch objects>)"
      ]
     },
     "execution_count": 6,
     "metadata": {},
     "output_type": "execute_result"
    },
    {
     "data": {
      "image/png": "[encoded data removed]",
      "text/plain": [
       "<Figure size 432x288 with 1 Axes>"
      ]
     },
     "metadata": {},
     "output_type": "display_data"
    }
   ],
   "source": [
    "plt.hist(a, bins='auto') "
   ]
  }
 ],
 "metadata": {
  "kernelspec": {
   "display_name": "Python 3",
   "language": "python",
   "name": "python3"
  },
  "language_info": {
   "codemirror_mode": {
    "name": "ipython",
    "version": 3
   },
   "file_extension": ".py",
   "mimetype": "text/x-python",
   "name": "python",
   "nbconvert_exporter": "python",
   "pygments_lexer": "ipython3",
   "version": "3.6.4"
  }
 },
 "nbformat": 4,
 "nbformat_minor": 2
}
