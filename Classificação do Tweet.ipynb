{
 "cells": [
  {
   "cell_type": "code",
   "execution_count": null,
   "metadata": {},
   "outputs": [],
   "source": [
    "from textblob import TextBlob\n",
    "import pandas as pd  \n",
    "import numpy as np"
   ]
  },
  {
   "cell_type": "code",
   "execution_count": null,
   "metadata": {},
   "outputs": [],
   "source": [
    "dilma1turno=pd.read_csv(\"Classificacao/clasdilma1_total.txt\",delimiter=\"\\t\",encoding='latin-1')\n",
    "dilma2turno=pd.read_csv(\"Dilma_2turno_limpo.txt\",delimiter=\"\\t\",encoding='latin-1')\n",
    "dilma21turno = pd.read_csv(\"Classificado/clasdilma2.txt\",delimiter=\"\\t\",encoding='latin-1')"
   ]
  },
  {
   "cell_type": "code",
   "execution_count": null,
   "metadata": {},
   "outputs": [],
   "source": [
    "dilmaFat = dilma2turno[6001:]"
   ]
  },
  {
   "cell_type": "code",
   "execution_count": null,
   "metadata": {},
   "outputs": [],
   "source": [
    "aecio1turno=pd.read_csv(\"Aecio_1turno_limpo.txt\",delimiter=\"\\t\",encoding='latin-1')\n",
    "aecio2turno=pd.read_csv(\"Aecio_2turno_limpo.txt\",delimiter=\"\\t\",encoding='latin-1')"
   ]
  },
  {
   "cell_type": "code",
   "execution_count": null,
   "metadata": {},
   "outputs": [],
   "source": [
    "def analize_sentiment(tweet):\n",
    "    analysis = TextBlob(tweet)\n",
    "    if analysis.detect_language() != 'en':\n",
    "        try:\n",
    "            analysis = TextBlob(str(analysis.translate(to='en')))\n",
    "        \n",
    "            return analysis.sentiment.polarity\n",
    "        except:\n",
    "            return -1\n",
    "    else:\n",
    "        return analysis.sentiment.polarity"
   ]
  },
  {
   "cell_type": "code",
   "execution_count": null,
   "metadata": {},
   "outputs": [],
   "source": [
    "d2 = []\n",
    "\n",
    "count = 0 \n",
    "for tweet in dilmaFat['text']:\n",
    "    d2.append(analize_sentiment(tweet))\n",
    "    count = count+1\n",
    "    if(count%100==0):\n",
    "        print(count)\n",
    "\n",
    "print('Salvei o Segundo')"
   ]
  },
  {
   "cell_type": "code",
   "execution_count": null,
   "metadata": {},
   "outputs": [],
   "source": [
    "d1 = []\n",
    "d2 = []\n",
    "a1 = []\n",
    "a2 = []\n",
    "\n",
    "count = 0 \n",
    "for tweet in dilma1turno['text']:\n",
    "    d1.append(analize_sentiment(tweet))\n",
    "    if(count%100==0):\n",
    "        print(count)\n",
    "\n",
    "print('Salvei o Primeiro')\n",
    "\n",
    "for tweet in dilma2turno['text']:\n",
    "    d2.append(analize_sentiment(tweet))\n",
    "    dilma2turno['score'] = pd.Series(d2)\n",
    "\n",
    "dilma2turno.to_csv('clasdilma2.txt',sep='\\t', mode='a',index=False)\n",
    "print('Salvei o Segundo')\n",
    "\n",
    "\n",
    "for tweet in aecio1turno['text']:\n",
    "    a1.append(analize_sentiment(tweet))\n",
    "    aecio1turno['score'] = a1\n",
    "    aecio1turno['score'] = pd.Series(a1)\n",
    "\n",
    "aecio1turno.to_csv('aecio1turnoClass.txt',sep='\\t', mode='a',index=False)\n",
    "print('Salvei o Terceiro')\n",
    "\n",
    "\n",
    "for tweet in aecio2turno['text']:\n",
    "    a2.append(analize_sentiment(tweet))\n",
    "    aecio2turno['score'] = a2\n",
    "    aecio2turno['score'] = pd.Series(a2)\n",
    "\n",
    "aecio2turno.to_csv('aecio2turnoClass.txt',sep='\\t', mode='a',index=False)\n",
    "print('Salvei o Quarto')\n",
    "\n",
    "\n"
   ]
  },
  {
   "cell_type": "code",
   "execution_count": null,
   "metadata": {},
   "outputs": [],
   "source": [
    "pd.reset_option('mode.chained_assignment')\n",
    "\n",
    "with pd.option_context('mode.chained_assignment', None):\n",
    "    dilma1turno_test['score'] = d1\n",
    "dilma1turno_test.to_csv('clasdilma1.txt',sep='\\t', mode='a',index=False)"
   ]
  }
 ],
 "metadata": {
  "kernelspec": {
   "display_name": "Python 3",
   "language": "python",
   "name": "python3"
  },
  "language_info": {
   "codemirror_mode": {
    "name": "ipython",
    "version": 3
   },
   "file_extension": ".py",
   "mimetype": "text/x-python",
   "name": "python",
   "nbconvert_exporter": "python",
   "pygments_lexer": "ipython3",
   "version": "3.6.4"
  }
 },
 "nbformat": 4,
 "nbformat_minor": 2
}
