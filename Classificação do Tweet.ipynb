{
 "cells": [
  {
   "cell_type": "code",
   "execution_count": 1,
   "metadata": {},
   "outputs": [],
   "source": [
    "from textblob import TextBlob\n",
    "import pandas as pd  \n",
    "import numpy as np"
   ]
  },
  {
   "cell_type": "code",
   "execution_count": 2,
   "metadata": {},
   "outputs": [],
   "source": [
    "dilma1turno=pd.read_csv(\"Dilma_1turno_limpo.txt\",delimiter=\"\\t\",encoding='latin-1')\n",
    "dilma2turno=pd.read_csv(\"Dilma_2turno_limpo.txt\",delimiter=\"\\t\",encoding='latin-1')"
   ]
  },
  {
   "cell_type": "code",
   "execution_count": 3,
   "metadata": {},
   "outputs": [],
   "source": [
    "aecio1turno=pd.read_csv(\"Aecio_1turno_limpo.txt\",delimiter=\"\\t\",encoding='latin-1')\n",
    "aecio2turno=pd.read_csv(\"Aecio_2turno_limpo.txt\",delimiter=\"\\t\",encoding='latin-1')"
   ]
  },
  {
   "cell_type": "code",
   "execution_count": 6,
   "metadata": {},
   "outputs": [],
   "source": [
    "def analize_sentiment(tweet):\n",
    "    analysis = TextBlob(tweet)\n",
    "    if analysis.detect_language() != 'en':\n",
    "        try:\n",
    "            analysis = TextBlob(str(analysis.translate(to='en')))\n",
    "        \n",
    "            return analysis.sentiment.polarity\n",
    "        except:\n",
    "            return 'olhar'\n",
    "    else:\n",
    "        return analysis.sentiment.polarity"
   ]
  },
  {
   "cell_type": "code",
   "execution_count": null,
   "metadata": {},
   "outputs": [],
   "source": [
    "d1 = []\n",
    "d2 = []\n",
    "a1 = []\n",
    "a2 = []\n",
    "for tweet in dilma1turno['text']:\n",
    "    d1.append(analize_sentiment(tweet))\n",
    "\n",
    "for tweet in dilma2turno['text']:\n",
    "    d2.append(analize_sentiment(tweet))\n",
    "\n",
    "for tweet in aecio1turno['text']:\n",
    "    a1.append(analize_sentiment(tweet))\n",
    "\n",
    "for tweet in aecio2turno['text']:\n",
    "    a2.append(analize_sentiment(tweet))\n",
    "\n",
    "dilma1turno['polarity'] = d1\n",
    "dilma2turno['polarity'] = d2\n",
    "aecio1turno['polarity'] = a1\n",
    "aecio2turno['polarity'] = a2\n",
    "\n"
   ]
  },
  {
   "cell_type": "code",
   "execution_count": null,
   "metadata": {},
   "outputs": [],
   "source": []
  }
 ],
 "metadata": {
  "kernelspec": {
   "display_name": "Python 3",
   "language": "python",
   "name": "python3"
  },
  "language_info": {
   "codemirror_mode": {
    "name": "ipython",
    "version": 3
   },
   "file_extension": ".py",
   "mimetype": "text/x-python",
   "name": "python",
   "nbconvert_exporter": "python",
   "pygments_lexer": "ipython3",
   "version": "3.6.4"
  }
 },
 "nbformat": 4,
 "nbformat_minor": 2
}
