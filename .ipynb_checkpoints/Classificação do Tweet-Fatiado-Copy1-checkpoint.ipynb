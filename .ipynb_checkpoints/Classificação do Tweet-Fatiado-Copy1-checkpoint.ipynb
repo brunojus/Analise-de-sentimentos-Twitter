{
 "cells": [
  {
   "cell_type": "code",
   "execution_count": null,
   "metadata": {},
   "outputs": [],
   "source": [
    "from textblob import TextBlob\n",
    "import pandas as pd  \n",
    "import numpy as np\n",
    "from decimal import Decimal"
   ]
  },
  {
   "cell_type": "code",
   "execution_count": null,
   "metadata": {},
   "outputs": [],
   "source": [
    "dilma1turno=pd.read_csv(\"Classificado/clasdilma1.txt\",delimiter=\"\\t\",encoding='latin-1')\n",
    "dilma2turno=pd.read_csv(\"Classificado/clasdilma2.txt\",delimiter=\"\\t\",encoding='latin-1')"
   ]
  },
  {
   "cell_type": "code",
   "execution_count": null,
   "metadata": {},
   "outputs": [],
   "source": [
    "aecio1turno=pd.read_csv(\"Classificado/clasaecio1.txt\",delimiter=\"\\t\",encoding='latin-1')\n",
    "aecio2turno=pd.read_csv(\"Classificado/clasaecio2.txt\",delimiter=\"\\t\",encoding='latin-1')"
   ]
  },
  {
   "cell_type": "code",
   "execution_count": null,
   "metadata": {},
   "outputs": [],
   "source": [
    "def analize_sentiment(score):\n",
    "    if score == 'olhar':\n",
    "        return 'Negativo'\n",
    "    else: \n",
    "        score = float(score)\n",
    "        if score > 0:\n",
    "            return 'Positivo'\n",
    "        elif score ==0:\n",
    "            return 'Neutro'\n",
    "        else:\n",
    "            return 'Negativo'"
   ]
  },
  {
   "cell_type": "code",
   "execution_count": 55,
   "metadata": {},
   "outputs": [
    {
     "name": "stdout",
     "output_type": "stream",
     "text": [
      "Percentage of positive tweets: 30.92817863689385%\n",
      "Percentage of neutral tweets: 41.859690051658056%\n",
      "Percentage de negative tweets: 27.195467422096318%\n"
     ]
    }
   ],
   "source": [
    "d1 = []\n",
    "for tweet in dilma1turno['score']:\n",
    "    d1.append(analize_sentiment(tweet))\n",
    "    \n",
    "dilma1turno['sentiment'] = d1\n",
    "dilma1turno.to_csv('clasdilma1.txt',sep='\\t', mode='a',index=False)\n",
    "dilma1turno=pd.read_csv(\"clasdilma1.txt\",delimiter=\"\\t\",encoding='latin-1')\n",
    "\n",
    "pos_tweets = [ tweet for index, tweet in enumerate(dilma1turno['sentiment']) if dilma1turno['sentiment'][index] == 'Positivo']\n",
    "neu_tweets = [ tweet for index, tweet in enumerate(dilma1turno['sentiment']) if dilma1turno['sentiment'][index] == 'Neutro']\n",
    "neg_tweets = [ tweet for index, tweet in enumerate(dilma1turno['sentiment']) if dilma1turno['sentiment'][index] == 'Negativo']\n",
    "\n",
    "print(\"Percentage of positive tweets: {}%\".format(len(pos_tweets)*100/len(dilma1turno['sentiment'])))\n",
    "print(\"Percentage of neutral tweets: {}%\".format(len(neu_tweets)*100/len(dilma1turno['sentiment'])))\n",
    "print(\"Percentage de negative tweets: {}%\".format(len(neg_tweets)*100/len(dilma1turno['sentiment'])))"
   ]
  },
  {
   "cell_type": "code",
   "execution_count": 51,
   "metadata": {},
   "outputs": [
    {
     "name": "stdout",
     "output_type": "stream",
     "text": [
      "Percentage of positive tweets: 26.166666666666668%\n",
      "Percentage of neutral tweets: 56.266666666666666%\n",
      "Percentage de negative tweets: 17.566666666666666%\n"
     ]
    }
   ],
   "source": [
    "d2 = []\n",
    "for tweet in dilma2turno['score']:\n",
    "    d2.append(analize_sentiment(tweet))\n",
    "    \n",
    "dilma2turno['sentiment'] = d2\n",
    "dilma2turno.to_csv('clasdilma2.txt',sep='\\t', mode='a',index=False)\n",
    "dilma2turno=pd.read_csv(\"clasdilma2.txt\",delimiter=\"\\t\",encoding='latin-1')\n",
    "\n",
    "pos_tweets = [ tweet for index, tweet in enumerate(dilma2turno['sentiment']) if dilma2turno['sentiment'][index] == 'Positivo']\n",
    "neu_tweets = [ tweet for index, tweet in enumerate(dilma2turno['sentiment']) if dilma2turno['sentiment'][index] == 'Neutro']\n",
    "neg_tweets = [ tweet for index, tweet in enumerate(dilma2turno['sentiment']) if dilma2turno['sentiment'][index] == 'Negativo']\n",
    "\n",
    "print(\"Percentage of positive tweets: {}%\".format(len(pos_tweets)*100/len(dilma2turno['sentiment'])))\n",
    "print(\"Percentage of neutral tweets: {}%\".format(len(neu_tweets)*100/len(dilma2turno['sentiment'])))\n",
    "print(\"Percentage de negative tweets: {}%\".format(len(neg_tweets)*100/len(dilma2turno['sentiment'])))"
   ]
  },
  {
   "cell_type": "code",
   "execution_count": 52,
   "metadata": {},
   "outputs": [
    {
     "name": "stdout",
     "output_type": "stream",
     "text": [
      "Percentage of positive tweets: 31.733333333333334%\n",
      "Percentage of neutral tweets: 48.56666666666667%\n",
      "Percentage de negative tweets: 19.7%\n"
     ]
    }
   ],
   "source": [
    "a1 = []\n",
    "for tweet in aecio1turno['score']:\n",
    "    a1.append(analize_sentiment(tweet))\n",
    "    \n",
    "aecio1turno['sentiment'] = a1\n",
    "aecio1turno.to_csv('clasAecio1.txt',sep='\\t', mode='a',index=False)\n",
    "aecio1turno=pd.read_csv(\"clasAecio1.txt\",delimiter=\"\\t\",encoding='latin-1')\n",
    "\n",
    "pos_tweets = [ tweet for index, tweet in enumerate(aecio1turno['sentiment']) if aecio1turno['sentiment'][index] == 'Positivo']\n",
    "neu_tweets = [ tweet for index, tweet in enumerate(aecio1turno['sentiment']) if aecio1turno['sentiment'][index] == 'Neutro']\n",
    "neg_tweets = [ tweet for index, tweet in enumerate(aecio1turno['sentiment']) if aecio1turno['sentiment'][index] == 'Negativo']\n",
    "\n",
    "print(\"Percentage of positive tweets: {}%\".format(len(pos_tweets)*100/len(aecio1turno['sentiment'])))\n",
    "print(\"Percentage of neutral tweets: {}%\".format(len(neu_tweets)*100/len(aecio1turno['sentiment'])))\n",
    "print(\"Percentage de negative tweets: {}%\".format(len(neg_tweets)*100/len(aecio1turno['sentiment'])))\n"
   ]
  },
  {
   "cell_type": "code",
   "execution_count": 54,
   "metadata": {},
   "outputs": [
    {
     "name": "stdout",
     "output_type": "stream",
     "text": [
      "Percentage of positive tweets: 30.6%\n",
      "Percentage of neutral tweets: 54.266666666666666%\n",
      "Percentage de negative tweets: 15.133333333333333%\n"
     ]
    }
   ],
   "source": [
    "a2 = []\n",
    "for tweet in aecio2turno['score']:\n",
    "    a2.append(analize_sentiment(tweet))\n",
    "    \n",
    "aecio2turno['sentiment'] = a2\n",
    "aecio2turno.to_csv('clasAecio2.txt',sep='\\t', mode='a',index=False)\n",
    "aecio2turno=pd.read_csv(\"clasAecio2.txt\",delimiter=\"\\t\",encoding='latin-1')\n",
    "\n",
    "pos_tweets = [ tweet for index, tweet in enumerate(aecio2turno['sentiment']) if aecio2turno['sentiment'][index] == 'Positivo']\n",
    "neu_tweets = [ tweet for index, tweet in enumerate(aecio2turno['sentiment']) if aecio2turno['sentiment'][index] == 'Neutro']\n",
    "neg_tweets = [ tweet for index, tweet in enumerate(aecio2turno['sentiment']) if aecio2turno['sentiment'][index] == 'Negativo']\n",
    "\n",
    "print(\"Percentage of positive tweets: {}%\".format(len(pos_tweets)*100/len(aecio2turno['sentiment'])))\n",
    "print(\"Percentage of neutral tweets: {}%\".format(len(neu_tweets)*100/len(aecio2turno['sentiment'])))\n",
    "print(\"Percentage de negative tweets: {}%\".format(len(neg_tweets)*100/len(aecio2turno['sentiment'])))"
   ]
  }
 ],
 "metadata": {
  "kernelspec": {
   "display_name": "Python 3",
   "language": "python",
   "name": "python3"
  },
  "language_info": {
   "codemirror_mode": {
    "name": "ipython",
    "version": 3
   },
   "file_extension": ".py",
   "mimetype": "text/x-python",
   "name": "python",
   "nbconvert_exporter": "python",
   "pygments_lexer": "ipython3",
   "version": "3.6.4"
  }
 },
 "nbformat": 4,
 "nbformat_minor": 2
}
